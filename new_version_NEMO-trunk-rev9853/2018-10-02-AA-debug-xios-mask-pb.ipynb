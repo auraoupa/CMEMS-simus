{
 "cells": [
  {
   "cell_type": "markdown",
   "metadata": {},
   "source": [
    "  - in /home/albert7a/RUNS/RUN_NACHOS12.L75/NACHOS12.L75-MAANEMO40beta/CTL, in nemo_occigen2.e5209248 :\n",
    "\n",
    "```\n",
    "srun --mpi=pmi2 -m cyclic -K1 --cpu_bind=map_cpu:0,1,2,3,4,5,6,7,8,9,10,11,12,13,14,15,16,17,18,19,20,21,22,23,24,25,26,27 --multi-prog ./ztask_file.conf\n",
    "[n3214:7642 :0] Caught signal 11 (Segmentation fault)\n",
    "[n3218:30898:0] Caught signal 11 (Segmentation fault)\n",
    "[n4294:49431:0] Caught signal 11 (Segmentation fault)\n",
    "[n4239:7991 :0] Caught signal 11 (Segmentation fault)\n",
    "[n4295:37025:0] Caught signal 11 (Segmentation fault)\n",
    "[n4296:35897:0] Caught signal 11 (Segmentation fault)\n",
    "[n4298:39033:0] Caught signal 11 (Segmentation fault)\n",
    "[n4297:38389:0] Caught signal 11 (Segmentation fault)\n",
    "==== backtrace ====\n",
    " 2 0x0000000000068d1c mxm_handle_error()  /var/tmp/OFED_topdir/BUILD/mxm-3.6.3102/src/mxm/util/debug/debug.c:641\n",
    " 3 0x000000000006926c mxm_error_signal_handler()  /var/tmp/OFED_topdir/BUILD/mxm-3.6.3102/src/mxm/util/debug/debug.c:616\n",
    " 4 0x0000000000035270 killpg()  ??:0\n",
    " 5 0x0000000000703961 _ZN5boost9unordered6detail5tableINS1_3mapISaISt4pairIKmmEEmmNS_4hashImEESt8equal_toImEEEE18try_emplace_uniqueImEES4_INS0_15iterator_detail8iteratorINS1_8ptr_nodeIS6_EEEEbERKT_()  ??:0\n",
    " 6 0x000000000078b230 _ZN4xios7CDomain8recvMaskERSt3mapIiPNS_9CBufferInESt4lessIiESaISt4pairIKiS3_EEE()  ??:0\n",
    " 7 0x0000000000789c0e _ZN4xios7CDomain13dispatchEventERNS_12CEventServerE()  ??:0\n",
    " 8 0x0000000000754609 _ZN4xios14CContextServer9eventLoopEb()  ??:0\n",
    " 9 0x0000000000c6e1ba _ZN4xios7CServer9eventLoopEv()  ??:0\n",
    "10 0x0000000000759be3 _ZN4xios5CXios14initServerSideEv()  ??:0\n",
    "11 0x0000000000414de9 MAIN__()  ??:0\n",
    "12 0x0000000000e8ae22 main()  ??:0\n",
    "13 0x0000000000021c05 __libc_start_main()  ??:0\n",
    "14 0x0000000000414ce9 _start()  ??:0\n",
    "```\n",
    "\n",
    "  - in ocean.output.4582.ABORT : no ERROR message\n",
    "\n",
    "  - in /scratch/cnt0024/hmg2840/albert7a/TMPDIR_NACHOS12.L75-MAANEMO40beta/xios_server_0000.out :\n",
    "\n",
    "```\n",
    "-> info : If domain grid_T does not have overlapped regions between processes something must be wrong with mask index\n",
    "```\n"
   ]
  },
  {
   "cell_type": "markdown",
   "metadata": {},
   "source": [
    "  - in /scratch/cnt0024/hmg2840/albert7a/DEV/xios-2.5/src/node/node/domain.cpp\n",
    "  \n",
    "```\n",
    "    if (nbMaskInd != globalLocalIndexMap_.size())\n",
    "      info (0) << \"If domain \" << this->getDomainOutputName() <<\" does not have overlapped regions between processes \"\n",
    "               << \"something must be wrong with mask index \"<< std::endl;\n",
    "```"
   ]
  },
  {
   "cell_type": "markdown",
   "metadata": {},
   "source": [
    "## nbMaskInd\n",
    "\n",
    "  - in /scratch/cnt0024/hmg2840/albert7a/DEV/xios-2.5/src/node/node/domain.cpp\n",
    "  \n",
    "```\n",
    "    int nbMaskInd = 0;\n",
    "    for (i = 0; i < nbReceived; ++i)\n",
    "    {\n",
    "      nbMaskInd += recvMaskValue[i].numElements();\n",
    "    }\n",
    "```\n",
    "\n",
    "### nbReceived\n",
    "  - in /scratch/cnt0024/hmg2840/albert7a/DEV/xios-2.5/src/node/node/domain.cpp\n",
    "  \n",
    "```\n",
    "    int nbReceived = rankBuffers.size(), i, ind, index, lInd;\n",
    "```\n",
    "\n",
    "\n",
    "\n"
   ]
  }
 ],
 "metadata": {
  "kernelspec": {
   "display_name": "Python [Root]",
   "language": "python",
   "name": "Python [Root]"
  },
  "language_info": {
   "codemirror_mode": {
    "name": "ipython",
    "version": 2
   },
   "file_extension": ".py",
   "mimetype": "text/x-python",
   "name": "python",
   "nbconvert_exporter": "python",
   "pygments_lexer": "ipython2",
   "version": "2.7.15"
  }
 },
 "nbformat": 4,
 "nbformat_minor": 2
}

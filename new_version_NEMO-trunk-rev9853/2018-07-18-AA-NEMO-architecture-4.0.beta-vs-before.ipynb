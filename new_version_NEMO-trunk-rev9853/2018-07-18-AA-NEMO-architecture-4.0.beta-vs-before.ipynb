{
 "cells": [
  {
   "cell_type": "markdown",
   "metadata": {},
   "source": [
    "# Changes in architecture in NEMO 4.0.beta\n",
    "\n",
    "\n",
    "Description at http://forge.ipsl.jussieu.fr/nemo/wiki/Users/Announcement_4.0.beta_release :\n",
    "\n",
    "![](arch-nemo.png)\n",
    "\n",
    " - in /scratch/cnt0024/hmg2840/albert7a/DEV\n",
    "   - mkdir NEMODRAK_4.0_beta\n",
    "   - in NEMODRAK_4.0_beta\n",
    "     - mkdir NEMOREF\n",
    "     - in NEMOREF\n",
    "       - create getnemotrunk with `svn co -r 9961  http://forge.ipsl.jussieu.fr/nemo/svn/NEMO/trunk NEMOGCM` in it\n",
    "       - execute getnemotrunk, it downloads the rev 9961 of NEMO 4.0.beta\n",
    "     - mkdir TOOLS\n",
    "     - in TOOLS\n",
    "       - cp all the tools from NEMODRAK_4.0\n",
    "       - modify them in order to fit the new architecture\n",
    "     - mkdir DRAKKAR\n",
    "     - in DRAKKAR\n",
    "       - same architecture than in NEMOREF/NEMOGCM\n",
    " \n",
    " - in /home/albert7a/modules, create 4.0_beta from 4.0"
   ]
  },
  {
   "cell_type": "code",
   "execution_count": null,
   "metadata": {},
   "outputs": [],
   "source": []
  }
 ],
 "metadata": {
  "kernelspec": {
   "display_name": "Python [Root]",
   "language": "python",
   "name": "Python [Root]"
  },
  "language_info": {
   "codemirror_mode": {
    "name": "ipython",
    "version": 2
   },
   "file_extension": ".py",
   "mimetype": "text/x-python",
   "name": "python",
   "nbconvert_exporter": "python",
   "pygments_lexer": "ipython2",
   "version": "2.7.15"
  }
 },
 "nbformat": 4,
 "nbformat_minor": 2
}

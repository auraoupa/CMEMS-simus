{
 "cells": [
  {
   "cell_type": "markdown",
   "metadata": {},
   "source": [
    "# Phasing new version NEMO\n",
    "\n",
    "- On July, 11 2018, Announcement 4.0.beta NEMO release, release 9925 and later\n",
    "- Downloaded on July, 18 : rev 9961\n",
    "\n",
    "\n",
    "## List of the steps :\n",
    "\n",
    "  - testing new NESTING_TOOLS => ok\n",
    "  - testing tools that help transform old config files into new ones (ask Laurent) : [DOMAINcfg](2018-07-02-AA-DOMAINcfg.ipynb) => ok\n",
    "  -  check differences in architecture of the code (directories) : [architecture](2018-07-18-AA-NEMO-architecture-4.0.beta-vs-before.ipynb)\n",
    "  -  list differences between DRAKKAR and NEMOREF in rev 7046\n",
    "  -  apply differences when necessary to NEMOREF rev 9853\n",
    "  -  change compilation tools (check if makenemo still the same)\n",
    "  -  compile new version of code\n",
    "  -  test with a configuration provided by NEMO (ORCA2)\n",
    "  -  adapt our config files\n",
    "  -  test NACHOS12 reference simulation\n",
    "  -  test NACHOS12 with GS zoom\n",
    "  -  test NACHOS12 with GS and IBI zooms"
   ]
  },
  {
   "cell_type": "code",
   "execution_count": null,
   "metadata": {},
   "outputs": [],
   "source": []
  }
 ],
 "metadata": {
  "kernelspec": {
   "display_name": "Python [Root]",
   "language": "python",
   "name": "Python [Root]"
  },
  "language_info": {
   "codemirror_mode": {
    "name": "ipython",
    "version": 2
   },
   "file_extension": ".py",
   "mimetype": "text/x-python",
   "name": "python",
   "nbconvert_exporter": "python",
   "pygments_lexer": "ipython2",
   "version": "2.7.15"
  }
 },
 "nbformat": 4,
 "nbformat_minor": 2
}

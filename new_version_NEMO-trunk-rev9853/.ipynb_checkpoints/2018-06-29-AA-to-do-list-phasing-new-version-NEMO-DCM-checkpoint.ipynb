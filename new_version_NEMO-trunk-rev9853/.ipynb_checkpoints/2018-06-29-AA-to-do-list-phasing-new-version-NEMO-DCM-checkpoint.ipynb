{
 "cells": [
  {
   "cell_type": "markdown",
   "metadata": {},
   "source": [
    "# Phasing new version NEMO\n",
    "\n",
    "- On June, 28 2018, J.Chanut said the trunk version of NEMO is okay to run AGRIF with LIM3 and that we should test it.\n",
    "- A lot of modifications between rev 9853 and rev 7046, in the code, in the config files ...\n",
    "\n",
    "List of the steps :\n",
    "  - [ ] testing new NESTING_TOOLS\n",
    "  - [ ] testing tools that help transform old config files into new ones (ask Laurent)\n",
    "  - [ ] check differences in architecture of the code (directories)\n",
    "  - [ ] list differences between DRAKKAR and NEMOREF in rev 7046\n",
    "  - [ ] apply differences when necessary to NEMOREF rev 9853\n",
    "  - [ ] change compilation tools (check if makenemo still the same)\n",
    "  - [ ] compile new version of code\n",
    "  - [ ] test with a configuration provided by NEMO (ORCA2)\n",
    "  - [ ] adapt our config files\n",
    "  - [ ] test NACHOS12 reference simulation\n",
    "  - [ ] test NACHOS12 with GS zoom\n",
    "  - [ ] test NACHOS12 with GS and IBI zooms"
   ]
  },
  {
   "cell_type": "code",
   "execution_count": null,
   "metadata": {},
   "outputs": [],
   "source": []
  }
 ],
 "metadata": {
  "kernelspec": {
   "display_name": "Python [Root]",
   "language": "python",
   "name": "Python [Root]"
  },
  "language_info": {
   "codemirror_mode": {
    "name": "ipython",
    "version": 2
   },
   "file_extension": ".py",
   "mimetype": "text/x-python",
   "name": "python",
   "nbconvert_exporter": "python",
   "pygments_lexer": "ipython2",
   "version": "2.7.15"
  }
 },
 "nbformat": 4,
 "nbformat_minor": 2
}

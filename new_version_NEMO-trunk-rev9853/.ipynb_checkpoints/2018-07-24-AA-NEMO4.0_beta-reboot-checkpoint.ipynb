{
 "cells": [
  {
   "cell_type": "markdown",
   "metadata": {},
   "source": [
    "# NEMO4.0_beta reboot\n",
    "\n",
    "As JMM began to phase DCM with new release of NEMO4.0_beta, I start over !\n",
    "\n",
    "- DCM\n",
    " - download new version of DCM : git clone https://github.com/meom-group/DCM.git DCM_4.0_beta\n",
    " - in DCMTOOLS/NEMOREF download nemo : svn co http://forge.ipsl.jussieu.fr/nemo/svn/NEMO/trunk -r 9974 NEMO4\n",
    " - modify module/NEMODRAK/4.0_beta with new path (example in templates)\n",
    "\n",
    "- XIOS\n",
    " - download xios 2.5 : svn co http://forge.ipsl.jussieu.fr/ioserver/svn/XIOS/branchs/xios-2.5\n",
    " - copy from previous version arch-X64-OCCIGEN.env\n",
    " - compile with ./make_xios --arch X64_OCCIGEN\n",
    " \n",
    " \n",
    "- new NACHOS12.L75 case to test compilation MAANEMO40beta\n",
    "  - mkconfdir_local NACHOS12.L75 MAANEMO40beta\n",
    "  - copy arch file from MAA13\n",
    "  - simpliest CPP.keys\n",
    "  \n",
    "- portage namelist NACHOS12.L75-MAA13 en 4.0_beta\n",
    "  - ajouter les patchs DRAKKAR pour damping files , shlat2d (pas obligé jai false)\n",
    "  - demander pour\n",
    "    - top/bottom drag coefficient\n",
    "    - TOP friction\n",
    "    - bbl ln_kriteria\n",
    "    - lateral diffusive vel & length\n",
    "    - temporal diffusion parameter\n",
    "    - internal, surface wave-induced mixing (Casimir ?)\n",
    "    - top/bottom friction added as boundary condition of tke\n",
    "  - create resto.nc using [dmp_tools](2018-08-30-AA-DMP_TOOLS.ipynb)\n",
    "  - modèle de glace très différent (au moins la namelist ...)"
   ]
  },
  {
   "cell_type": "code",
   "execution_count": null,
   "metadata": {},
   "outputs": [],
   "source": []
  }
 ],
 "metadata": {
  "kernelspec": {
   "display_name": "Python [Root]",
   "language": "python",
   "name": "Python [Root]"
  },
  "language_info": {
   "codemirror_mode": {
    "name": "ipython",
    "version": 2
   },
   "file_extension": ".py",
   "mimetype": "text/x-python",
   "name": "python",
   "nbconvert_exporter": "python",
   "pygments_lexer": "ipython2",
   "version": "2.7.15"
  }
 },
 "nbformat": 4,
 "nbformat_minor": 2
}

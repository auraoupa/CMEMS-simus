{
 "cells": [
  {
   "cell_type": "markdown",
   "metadata": {},
   "source": [
    "# DOMAINcfg\n",
    "\n",
    " - compilation : on occigen, in /scratch/cnt0024/hmg2840/albert7a/DEV/NEMO/trunk/tools ./maketools -n DOMAINcfg -m X64_OCCIGEN2jm2 with arch-X64_OCCIGEN2jm2.fcm copied in /scratch/cnt0024/hmg2840/albert7a/DEV/NEMO/trunk/arch\n",
    " \n",
    " - in namelist_cfg copy all from namelist.NACHOS12.L75-MAA13\n",
    " - copy files with namelist names :\n",
    "     - coordinates.nc : NACHOS12.L75_coordinates_20S_80N_v2.0.nc\n",
    "     - bathy_meter.nc : NACHOS12.L75_bathymetry_20S_80N_nfrontiercleaned_repeat3glorys_retouchbalt.nc\n",
    "     \n",
    " - mpirun -np 1 ./make_domain_cfg.exe\n",
    "     - => domain_cfg.nc"
   ]
  },
  {
   "cell_type": "markdown",
   "metadata": {},
   "source": [
    "## Problems encountered \n",
    "\n",
    " - WARNING: factorisation of number of PEs failed\n",
    "     - jpni,jpnj not specified in the namelist, I added the block from namelist.NACHOS => en fait non, il faut enlever ce bloc\n",
    " - no extra message than \"mpirun noticed that process rank 0 with PID 0 on node login3 exited on signal 11 (Segmentation fault).\"\n",
    "     - ulimit -s unlimited\n",
    " - ln_linssh=.true. sinon floating point exception in dom_init\n"
   ]
  },
  {
   "cell_type": "code",
   "execution_count": null,
   "metadata": {},
   "outputs": [],
   "source": []
  }
 ],
 "metadata": {
  "kernelspec": {
   "display_name": "Python [Root]",
   "language": "python",
   "name": "Python [Root]"
  },
  "language_info": {
   "codemirror_mode": {
    "name": "ipython",
    "version": 2
   },
   "file_extension": ".py",
   "mimetype": "text/x-python",
   "name": "python",
   "nbconvert_exporter": "python",
   "pygments_lexer": "ipython2",
   "version": "2.7.15"
  }
 },
 "nbformat": 4,
 "nbformat_minor": 2
}

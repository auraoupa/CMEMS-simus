{
 "cells": [
  {
   "cell_type": "code",
   "execution_count": 1,
   "metadata": {
    "collapsed": false
   },
   "outputs": [
    {
     "data": {
      "application/json": {
       "Software versions": [
        {
         "module": "Python",
         "version": "2.7.11 64bit [GCC 4.4.7 20120313 (Red Hat 4.4.7-1)]"
        },
        {
         "module": "IPython",
         "version": "4.2.0"
        },
        {
         "module": "OS",
         "version": "Linux 3.16.0 4 amd64 x86_64 with debian 8.5"
        },
        {
         "module": "numpy",
         "version": "1.11.1"
        },
        {
         "module": "xarray",
         "version": "0.9.1"
        },
        {
         "module": "netCDF4",
         "version": "1.2.4"
        }
       ]
      },
      "text/html": [
       "<table><tr><th>Software</th><th>Version</th></tr><tr><td>Python</td><td>2.7.11 64bit [GCC 4.4.7 20120313 (Red Hat 4.4.7-1)]</td></tr><tr><td>IPython</td><td>4.2.0</td></tr><tr><td>OS</td><td>Linux 3.16.0 4 amd64 x86_64 with debian 8.5</td></tr><tr><td>numpy</td><td>1.11.1</td></tr><tr><td>xarray</td><td>0.9.1</td></tr><tr><td>netCDF4</td><td>1.2.4</td></tr><tr><td colspan='2'>Mon Sep 04 15:25:14 2017 CEST</td></tr></table>"
      ],
      "text/latex": [
       "\\begin{tabular}{|l|l|}\\hline\n",
       "{\\bf Software} & {\\bf Version} \\\\ \\hline\\hline\n",
       "Python & 2.7.11 64bit [GCC 4.4.7 20120313 (Red Hat 4.4.7-1)] \\\\ \\hline\n",
       "IPython & 4.2.0 \\\\ \\hline\n",
       "OS & Linux 3.16.0 4 amd64 x86\\_64 with debian 8.5 \\\\ \\hline\n",
       "numpy & 1.11.1 \\\\ \\hline\n",
       "xarray & 0.9.1 \\\\ \\hline\n",
       "netCDF4 & 1.2.4 \\\\ \\hline\n",
       "\\hline \\multicolumn{2}{|l|}{Mon Sep 04 15:25:14 2017 CEST} \\\\ \\hline\n",
       "\\end{tabular}\n"
      ],
      "text/plain": [
       "Software versions\n",
       "Python 2.7.11 64bit [GCC 4.4.7 20120313 (Red Hat 4.4.7-1)]\n",
       "IPython 4.2.0\n",
       "OS Linux 3.16.0 4 amd64 x86_64 with debian 8.5\n",
       "numpy 1.11.1\n",
       "xarray 0.9.1\n",
       "netCDF4 1.2.4\n",
       "Mon Sep 04 15:25:14 2017 CEST"
      ]
     },
     "execution_count": 1,
     "metadata": {},
     "output_type": "execute_result"
    }
   ],
   "source": [
    "## magics\n",
    "\n",
    "%load_ext version_information \n",
    "%version_information numpy,xarray,netCDF4\n"
   ]
  },
  {
   "cell_type": "code",
   "execution_count": 2,
   "metadata": {
    "collapsed": true
   },
   "outputs": [],
   "source": [
    "## path for mdules\n",
    "\n",
    "import sys\n",
    "sys.path.insert(0,\"/home/albert/lib/python\")\n"
   ]
  },
  {
   "cell_type": "code",
   "execution_count": 3,
   "metadata": {
    "collapsed": true
   },
   "outputs": [],
   "source": [
    "## imports\n",
    "\n",
    "import numpy as np\n",
    "import dask\n",
    "import xarray as xr\n",
    "from netCDF4 import Dataset\n",
    "import matplotlib.pyplot as plt\n",
    "import pandas as pd \n",
    "import datetime\n",
    "import glob as glob\n",
    "import matplotlib.gridspec as gridspec\n",
    "from mpl_toolkits.basemap import Basemap\n",
    "import time\n",
    "from dask.diagnostics import ProgressBar\n",
    "import numpy.ma as ma\n",
    "\n",
    "%matplotlib inline"
   ]
  },
  {
   "cell_type": "code",
   "execution_count": 5,
   "metadata": {
    "collapsed": false
   },
   "outputs": [
    {
     "name": "stdout",
     "output_type": "stream",
     "text": [
      "/media/extra/DATA/NACHOS12/NACHOS12.L75-I/NACHOS12.L75_bathymetry_20S_80N_nfrontiercleaned_repeat3_retouchbalt.nc\n",
      "/media/extra/DATA/NACHOS12/NACHOS12.L75-I/NACHOS12.L75_coordinates_20S_80N_v2.0.nc\n",
      "/media/extra/DATA/NACHOS12.L75-MAA12-S/NACHOS12.L75-MAA12_y2010m04d24.1d_gridT.nc\n",
      "/media/extra/DATA/GLORYS/GLORYS2V4_ORCA025_201001_gridT.nc\n",
      "/media/extra/DATA/GLORYS/ORCA025_combined_etopo_gebco_coast_corrected_july08_G70.nc\n"
     ]
    }
   ],
   "source": [
    "## datasets\n",
    "\n",
    "#NACHOS12\n",
    "bathy_nachos=\"/media/extra/DATA/NACHOS12/NACHOS12.L75-I/NACHOS12.L75_bathymetry_20S_80N_nfrontiercleaned_repeat3_retouchbalt.nc\"\n",
    "coord_nachos=\"/media/extra/DATA/NACHOS12/NACHOS12.L75-I/NACHOS12.L75_coordinates_20S_80N_v2.0.nc\"\n",
    "temp_nachos='/media/extra/DATA/NACHOS12.L75-MAA12-S/NACHOS12.L75-MAA12_y2010m04d24.1d_gridT.nc'\n",
    "\n",
    "!ls $bathy_nachos\n",
    "!ls $coord_nachos\n",
    "!ls $temp_nachos\n",
    "#GLORYS\n",
    "\n",
    "glorys=\"/media/extra/DATA/GLORYS/GLORYS2V4_ORCA025_201001_gridT.nc\"\n",
    "bathy_glorys=\"/media/extra/DATA/GLORYS/ORCA025_combined_etopo_gebco_coast_corrected_july08_G70.nc\"\n",
    "\n",
    "!ls $glorys\n",
    "!ls $bathy_glorys"
   ]
  },
  {
   "cell_type": "code",
   "execution_count": 6,
   "metadata": {
    "collapsed": false
   },
   "outputs": [],
   "source": [
    "dsbaNA=xr.open_dataset(bathy_nachos)\n",
    "dscoNA=xr.open_dataset(coord_nachos)\n",
    "dstempNA=xr.open_dataset(temp_nachos)\n",
    "dsglo=xr.open_dataset(glorys)\n",
    "dsbaglo=xr.open_dataset(bathy_glorys)\n",
    "\n",
    "latNA=dscoNA.gphit\n",
    "lonNA=dscoNA.glamt\n",
    "\n",
    "latGLO=dsglo.nav_lat\n",
    "lonGLO=dsglo.nav_lon\n",
    "\n",
    "depGLO=dsglo.deptht\n",
    "depNA=dstempNA.deptht\n",
    "\n",
    "batNA=dsbaNA.Bathymetry\n",
    "batGLO=dsbaglo.Bathymetry\n",
    "\n",
    "tempNA=dstempNA.votemper\n",
    "tempGLO=dsglo.votemper"
   ]
  },
  {
   "cell_type": "code",
   "execution_count": 6,
   "metadata": {
    "collapsed": false
   },
   "outputs": [
    {
     "data": {
      "text/plain": [
       "(1568, 1609)"
      ]
     },
     "execution_count": 6,
     "metadata": {},
     "output_type": "execute_result"
    }
   ],
   "source": [
    "latNA.shape"
   ]
  },
  {
   "cell_type": "markdown",
   "metadata": {},
   "source": [
    "###Comme il s'agit de 2 grille ORCA il faut trouver le coin sud ouest de la grille plus haute résolution qui correspond à un point de grille de ORCA025. Il se trouve forcément dans un des point d'un carré de 3 par 3"
   ]
  },
  {
   "cell_type": "code",
   "execution_count": 7,
   "metadata": {
    "collapsed": false
   },
   "outputs": [
    {
     "name": "stdout",
     "output_type": "stream",
     "text": [
      "<xarray.DataArray 'gphit' (y: 3, x: 3)>\n",
      "array([[-19.212805, -19.212805, -19.212807],\n",
      "       [-19.134094, -19.134096, -19.134098],\n",
      "       [-19.055347, -19.055347, -19.055349]])\n",
      "Dimensions without coordinates: y, x\n"
     ]
    }
   ],
   "source": [
    "latNAcoin=latNA[0:3,0:3]\n",
    "print latNAcoin"
   ]
  },
  {
   "cell_type": "code",
   "execution_count": 8,
   "metadata": {
    "collapsed": false
   },
   "outputs": [
    {
     "name": "stdout",
     "output_type": "stream",
     "text": [
      "<xarray.DataArray 'glamt' (y: 3, x: 3)>\n",
      "array([[-97.916656, -97.833344, -97.750031],\n",
      "       [-97.916656, -97.833344, -97.75    ],\n",
      "       [-97.916656, -97.833374, -97.75    ]])\n",
      "Dimensions without coordinates: y, x\n"
     ]
    }
   ],
   "source": [
    "lonNAcoin=lonNA[0:3,0:3]\n",
    "print lonNAcoin"
   ]
  },
  {
   "cell_type": "code",
   "execution_count": 9,
   "metadata": {
    "collapsed": false
   },
   "outputs": [],
   "source": [
    "indBOX=np.where((np.abs(lonGLO-lonNAcoin.min().values)<1)&(np.abs(lonGLO-lonNAcoin.max().values)<1)&(np.abs(latGLO-latNAcoin.min().values)<1)&(np.abs(latGLO-latNAcoin.max().values)<1)) "
   ]
  },
  {
   "cell_type": "code",
   "execution_count": 10,
   "metadata": {
    "collapsed": false
   },
   "outputs": [
    {
     "name": "stdout",
     "output_type": "stream",
     "text": [
      "417 423 755 761\n"
     ]
    }
   ],
   "source": [
    "print np.min(indBOX[0]),np.max(indBOX[0]),np.min(indBOX[1]),np.max(indBOX[1])"
   ]
  },
  {
   "cell_type": "code",
   "execution_count": 11,
   "metadata": {
    "collapsed": true
   },
   "outputs": [],
   "source": [
    "lonGLOBOX=lonGLO[np.min(indBOX[0]):np.max(indBOX[0]),np.min(indBOX[1]):np.max(indBOX[1])]\n",
    "latGLOBOX=latGLO[np.min(indBOX[0]):np.max(indBOX[0]),np.min(indBOX[1]):np.max(indBOX[1])]"
   ]
  },
  {
   "cell_type": "code",
   "execution_count": 12,
   "metadata": {
    "collapsed": false
   },
   "outputs": [
    {
     "data": {
      "text/plain": [
       "<xarray.DataArray 'nav_lon' (y: 6, x: 6)>\n",
       "array([[-98.5 , -98.25, -98.  , -97.75, -97.5 , -97.25],\n",
       "       [-98.5 , -98.25, -98.  , -97.75, -97.5 , -97.25],\n",
       "       [-98.5 , -98.25, -98.  , -97.75, -97.5 , -97.25],\n",
       "       [-98.5 , -98.25, -98.  , -97.75, -97.5 , -97.25],\n",
       "       [-98.5 , -98.25, -98.  , -97.75, -97.5 , -97.25],\n",
       "       [-98.5 , -98.25, -98.  , -97.75, -97.5 , -97.25]])\n",
       "Coordinates:\n",
       "  * x        (x) int32 756 757 758 759 760 761\n",
       "  * y        (y) int32 418 419 420 421 422 423\n",
       "Attributes:\n",
       "    units: degrees_east\n",
       "    valid_min: -180.0\n",
       "    valid_max: 180.0\n",
       "    long_name: Longitude\n",
       "    nav_model: Default grid\n",
       "    standard_name: longitude"
      ]
     },
     "execution_count": 12,
     "metadata": {},
     "output_type": "execute_result"
    }
   ],
   "source": [
    "lonGLOBOX"
   ]
  },
  {
   "cell_type": "code",
   "execution_count": 13,
   "metadata": {
    "collapsed": false
   },
   "outputs": [
    {
     "data": {
      "text/plain": [
       "<xarray.DataArray 'nav_lat' (y: 6, x: 6)>\n",
       "array([[-19.841127, -19.841127, -19.841127, -19.841127, -19.841127, -19.841127],\n",
       "       [-19.605793, -19.605793, -19.605793, -19.605793, -19.605793, -19.605793],\n",
       "       [-19.370117, -19.370117, -19.370117, -19.370117, -19.370117, -19.370117],\n",
       "       [-19.134098, -19.134098, -19.134098, -19.134098, -19.134098, -19.134098],\n",
       "       [-18.897741, -18.897741, -18.897741, -18.897741, -18.897741, -18.897741],\n",
       "       [-18.661049, -18.661049, -18.661049, -18.661049, -18.661049, -18.661049]])\n",
       "Coordinates:\n",
       "  * x        (x) int32 756 757 758 759 760 761\n",
       "  * y        (y) int32 418 419 420 421 422 423\n",
       "Attributes:\n",
       "    units: degrees_north\n",
       "    valid_min: -77.0104751587\n",
       "    valid_max: 89.9478683472\n",
       "    long_name: Latitude\n",
       "    nav_model: Default grid\n",
       "    standard_name: latitude"
      ]
     },
     "execution_count": 13,
     "metadata": {},
     "output_type": "execute_result"
    }
   ],
   "source": [
    "latGLOBOX"
   ]
  },
  {
   "cell_type": "markdown",
   "metadata": {},
   "source": [
    "### Le point commun entre les 2 grilles dans le coin Sud-Ouest le point de coordonnées 97.75°W x 19.134098°S"
   ]
  },
  {
   "cell_type": "code",
   "execution_count": 14,
   "metadata": {
    "collapsed": false
   },
   "outputs": [
    {
     "name": "stdout",
     "output_type": "stream",
     "text": [
      "-19.134098053 -97.75\n"
     ]
    }
   ],
   "source": [
    "print latGLO[420,758].values,lonGLO[420,758].values"
   ]
  },
  {
   "cell_type": "markdown",
   "metadata": {},
   "source": [
    "### Comme NACHOS12 fait 1568 x 1609 points de grille, pour extraire  son empreinte dans ORCA025 il faut extraire une zone de 523 x 537 à partir du point  [420,758]"
   ]
  },
  {
   "cell_type": "code",
   "execution_count": 15,
   "metadata": {
    "collapsed": true
   },
   "outputs": [],
   "source": [
    "latNARYS=latGLO[420:420+523,758:758+537]\n",
    "lonNARYS=lonGLO[420:420+523,758:758+537]"
   ]
  },
  {
   "cell_type": "code",
   "execution_count": 16,
   "metadata": {
    "collapsed": false
   },
   "outputs": [
    {
     "data": {
      "text/plain": [
       "(523, 537)"
      ]
     },
     "execution_count": 16,
     "metadata": {},
     "output_type": "execute_result"
    }
   ],
   "source": [
    "latNARYS.shape"
   ]
  },
  {
   "cell_type": "code",
   "execution_count": 17,
   "metadata": {
    "collapsed": false
   },
   "outputs": [
    {
     "data": {
      "text/plain": [
       "array(62.446407318115234)"
      ]
     },
     "execution_count": 17,
     "metadata": {},
     "output_type": "execute_result"
    }
   ],
   "source": [
    "latNARYS[-1,-1].values"
   ]
  },
  {
   "cell_type": "code",
   "execution_count": 18,
   "metadata": {
    "collapsed": false
   },
   "outputs": [
    {
     "data": {
      "text/plain": [
       "<xarray.DataArray 'gphit' ()>\n",
       "array(62.51424026489258)"
      ]
     },
     "execution_count": 18,
     "metadata": {},
     "output_type": "execute_result"
    }
   ],
   "source": [
    "latNA[-1,-1]"
   ]
  },
  {
   "cell_type": "code",
   "execution_count": 19,
   "metadata": {
    "collapsed": false
   },
   "outputs": [
    {
     "data": {
      "text/plain": [
       "array(57.617881774902344)"
      ]
     },
     "execution_count": 19,
     "metadata": {},
     "output_type": "execute_result"
    }
   ],
   "source": [
    "lonNARYS[-1,-1].values"
   ]
  },
  {
   "cell_type": "code",
   "execution_count": 20,
   "metadata": {
    "collapsed": false
   },
   "outputs": [
    {
     "data": {
      "text/plain": [
       "<xarray.DataArray 'glamt' ()>\n",
       "array(57.54792404174805)"
      ]
     },
     "execution_count": 20,
     "metadata": {},
     "output_type": "execute_result"
    }
   ],
   "source": [
    "lonNA[-1,-1]"
   ]
  },
  {
   "cell_type": "code",
   "execution_count": 21,
   "metadata": {
    "collapsed": false
   },
   "outputs": [
    {
     "name": "stdout",
     "output_type": "stream",
     "text": [
      "<xarray.DataArray 'gphit' ()>\n",
      "array(81.21077728271484) <xarray.DataArray 'nav_lat' ()>\n",
      "array(81.21074676513672)\n",
      "Coordinates:\n",
      "    y        int32 943\n"
     ]
    }
   ],
   "source": [
    "print np.max(latNA[-1,:]),np.max(latNARYS[-1,:])"
   ]
  },
  {
   "cell_type": "markdown",
   "metadata": {},
   "source": [
    "#Aux frontières on devrait avoir la même bathymétrie"
   ]
  },
  {
   "cell_type": "code",
   "execution_count": 27,
   "metadata": {
    "collapsed": true
   },
   "outputs": [],
   "source": [
    "tempNARYS=tempGLO[:,:,420:420+523,758:758+537]"
   ]
  },
  {
   "cell_type": "code",
   "execution_count": 28,
   "metadata": {
    "collapsed": false
   },
   "outputs": [
    {
     "data": {
      "text/plain": [
       "(1, 75, 523, 537)"
      ]
     },
     "execution_count": 28,
     "metadata": {},
     "output_type": "execute_result"
    }
   ],
   "source": [
    "tempNARYS.shape"
   ]
  },
  {
   "cell_type": "code",
   "execution_count": 39,
   "metadata": {
    "collapsed": false
   },
   "outputs": [
    {
     "data": {
      "text/plain": [
       "<matplotlib.collections.PolyCollection at 0x7fa9ea2ad4d0>"
      ]
     },
     "execution_count": 39,
     "metadata": {},
     "output_type": "execute_result"
    },
    {
     "data": {
      "image/png": "[encoded data removed]",
      "text/plain": [
       "<matplotlib.figure.Figure at 0x7fa9eba404d0>"
      ]
     },
     "metadata": {},
     "output_type": "display_data"
    }
   ],
   "source": [
    "fig = plt.figure(figsize=(20,5))\n",
    "plt.pcolor(lonNARYS[0,:],-1*depGLO,ma.masked_invalid(tempNARYS[0,:,0,:]))\n",
    "#plt.colorbar(orientation='horizontal',shrink=0.75)"
   ]
  },
  {
   "cell_type": "code",
   "execution_count": 41,
   "metadata": {
    "collapsed": false
   },
   "outputs": [
    {
     "data": {
      "text/plain": [
       "<matplotlib.collections.PolyCollection at 0x7fa9e9781390>"
      ]
     },
     "execution_count": 41,
     "metadata": {},
     "output_type": "execute_result"
    },
    {
     "data": {
      "image/png": "[encoded data removed]",
      "text/plain": [
       "<matplotlib.figure.Figure at 0x7fa9ea365ed0>"
      ]
     },
     "metadata": {},
     "output_type": "display_data"
    }
   ],
   "source": [
    "fig = plt.figure(figsize=(20,5))\n",
    "plt.pcolor(lonNA[0,:],-1*depNA,ma.masked_invalid(tempNA[0,:,1,:]))"
   ]
  },
  {
   "cell_type": "code",
   "execution_count": 42,
   "metadata": {
    "collapsed": false
   },
   "outputs": [
    {
     "data": {
      "text/plain": [
       "<xarray.DataArray 'nav_lat' (x: 537)>\n",
       "array([-19.134098, -19.134098, -19.134098, ..., -19.134098, -19.134098,\n",
       "       -19.134098])\n",
       "Coordinates:\n",
       "  * x        (x) int32 759 760 761 762 763 764 765 766 767 768 769 770 771 ...\n",
       "    y        int32 421\n",
       "Attributes:\n",
       "    units: degrees_north\n",
       "    valid_min: -77.0104751587\n",
       "    valid_max: 89.9478683472\n",
       "    long_name: Latitude\n",
       "    nav_model: Default grid\n",
       "    standard_name: latitude"
      ]
     },
     "execution_count": 42,
     "metadata": {},
     "output_type": "execute_result"
    }
   ],
   "source": [
    "latNARYS[0,:]"
   ]
  },
  {
   "cell_type": "code",
   "execution_count": 45,
   "metadata": {
    "collapsed": false
   },
   "outputs": [
    {
     "data": {
      "text/plain": [
       "<xarray.DataArray 'nav_lat' (x: 537)>\n",
       "array([ 63.678265,  63.704567,  63.731548, ...,  62.64996 ,  62.548168,\n",
       "        62.446407])\n",
       "Coordinates:\n",
       "  * x        (x) int32 759 760 761 762 763 764 765 766 767 768 769 770 771 ...\n",
       "    y        int32 943\n",
       "Attributes:\n",
       "    units: degrees_north\n",
       "    valid_min: -77.0104751587\n",
       "    valid_max: 89.9478683472\n",
       "    long_name: Latitude\n",
       "    nav_model: Default grid\n",
       "    standard_name: latitude"
      ]
     },
     "execution_count": 45,
     "metadata": {},
     "output_type": "execute_result"
    }
   ],
   "source": [
    "latNARYS[-1,:]"
   ]
  },
  {
   "cell_type": "code",
   "execution_count": 46,
   "metadata": {
    "collapsed": false
   },
   "outputs": [
    {
     "data": {
      "text/plain": [
       "<xarray.DataArray 'gphit' (x: 1609)>\n",
       "array([-19.134094, -19.134096, -19.134098, ..., -19.134098, -19.134098,\n",
       "       -19.134094])\n",
       "Dimensions without coordinates: x"
      ]
     },
     "execution_count": 46,
     "metadata": {},
     "output_type": "execute_result"
    }
   ],
   "source": [
    "latNA[1,:]"
   ]
  },
  {
   "cell_type": "code",
   "execution_count": 48,
   "metadata": {
    "collapsed": false
   },
   "outputs": [
    {
     "data": {
      "text/plain": [
       "<xarray.DataArray 'gphit' (x: 1609)>\n",
       "array([ 63.647572,  63.656124,  63.664745, ...,  62.56794 ,  62.534039,\n",
       "        62.500126])\n",
       "Dimensions without coordinates: x"
      ]
     },
     "execution_count": 48,
     "metadata": {},
     "output_type": "execute_result"
    }
   ],
   "source": [
    "latNA[-2,:]"
   ]
  },
  {
   "cell_type": "code",
   "execution_count": 44,
   "metadata": {
    "collapsed": false
   },
   "outputs": [
    {
     "data": {
      "text/plain": [
       "<matplotlib.collections.PolyCollection at 0x7fa9e8205fd0>"
      ]
     },
     "execution_count": 44,
     "metadata": {},
     "output_type": "execute_result"
    },
    {
     "data": {
      "image/png": "[encoded data removed]",
      "text/plain": [
       "<matplotlib.figure.Figure at 0x7fa9eb9ed4d0>"
      ]
     },
     "metadata": {},
     "output_type": "display_data"
    }
   ],
   "source": [
    "fig = plt.figure(figsize=(20,5))\n",
    "plt.pcolor(lonNARYS[0,:],-1*depGLO,ma.masked_invalid(tempNARYS[0,:,-1,:]))"
   ]
  },
  {
   "cell_type": "code",
   "execution_count": 49,
   "metadata": {
    "collapsed": false
   },
   "outputs": [
    {
     "data": {
      "text/plain": [
       "<matplotlib.collections.PolyCollection at 0x7fa9e7e75890>"
      ]
     },
     "execution_count": 49,
     "metadata": {},
     "output_type": "execute_result"
    },
    {
     "data": {
      "image/png": "[encoded data removed]",
      "text/plain": [
       "<matplotlib.figure.Figure at 0x7fa9e824e890>"
      ]
     },
     "metadata": {},
     "output_type": "display_data"
    }
   ],
   "source": [
    "fig = plt.figure(figsize=(20,5))\n",
    "plt.pcolor(lonNA[0,:],-1*depNA,ma.masked_invalid(tempNA[0,:,-2,:]))"
   ]
  },
  {
   "cell_type": "code",
   "execution_count": 7,
   "metadata": {
    "collapsed": true
   },
   "outputs": [],
   "source": [
    "batNARYS=batGLO[420:420+523,758:758+537]"
   ]
  },
  {
   "cell_type": "code",
   "execution_count": 8,
   "metadata": {
    "collapsed": false
   },
   "outputs": [
    {
     "data": {
      "text/plain": [
       "(523, 537)"
      ]
     },
     "execution_count": 8,
     "metadata": {},
     "output_type": "execute_result"
    }
   ],
   "source": [
    "batNARYS.shape"
   ]
  },
  {
   "cell_type": "code",
   "execution_count": 20,
   "metadata": {
    "collapsed": false
   },
   "outputs": [
    {
     "data": {
      "text/plain": [
       "537"
      ]
     },
     "execution_count": 20,
     "metadata": {},
     "output_type": "execute_result"
    }
   ],
   "source": [
    "batNARYS.shape[1]"
   ]
  },
  {
   "cell_type": "code",
   "execution_count": 9,
   "metadata": {
    "collapsed": false
   },
   "outputs": [
    {
     "data": {
      "text/plain": [
       "(1568, 1609)"
      ]
     },
     "execution_count": 9,
     "metadata": {},
     "output_type": "execute_result"
    }
   ],
   "source": [
    "batNA.shape"
   ]
  },
  {
   "cell_type": "code",
   "execution_count": 21,
   "metadata": {
    "collapsed": false
   },
   "outputs": [],
   "source": [
    "batNARYS3=np.zeros((3*batNARYS.shape[0],3*batNARYS.shape[1]))"
   ]
  },
  {
   "cell_type": "code",
   "execution_count": 22,
   "metadata": {
    "collapsed": false
   },
   "outputs": [
    {
     "data": {
      "text/plain": [
       "(1569, 1611)"
      ]
     },
     "execution_count": 22,
     "metadata": {},
     "output_type": "execute_result"
    }
   ],
   "source": [
    "batNARYS3.shape"
   ]
  },
  {
   "cell_type": "code",
   "execution_count": 44,
   "metadata": {
    "collapsed": false
   },
   "outputs": [],
   "source": [
    "for i in np.arange(batNARYS.shape[1]-1):\n",
    "        batNARYS3[0,3*i]=batNARYS[0,i]\n",
    "        batNARYS3[0,3*i+1]=batNARYS[0,i]\n",
    "        batNARYS3[0,3*i+2]=batNARYS[0,i]\n",
    "        batNARYS3[-1,3*i]=batNARYS[-1,i]\n",
    "        batNARYS3[-1,3*i+1]=batNARYS[-1,i]\n",
    "        batNARYS3[-1,3*i+2]=batNARYS[-1,i]\n",
    "        \n",
    "batNARYS3[0,-1]=batNARYS[0,-1]      \n",
    "batNARYS3[0,-2]=batNARYS[0,-1]      \n",
    "batNARYS3[0,-3]=batNARYS[0,-1]      \n",
    "\n",
    "batNARYS3[-1,-1]=batNARYS[-1,-1]      \n",
    "batNARYS3[-1,-2]=batNARYS[-1,-1]      \n",
    "batNARYS3[-1,-3]=batNARYS[-1,-1]      \n"
   ]
  },
  {
   "cell_type": "code",
   "execution_count": 45,
   "metadata": {
    "collapsed": false
   },
   "outputs": [
    {
     "data": {
      "text/plain": [
       "array([ 4233.51855469,  4233.51855469,  4233.51855469, ...,    38.        ,\n",
       "          38.        ,    38.        ])"
      ]
     },
     "execution_count": 45,
     "metadata": {},
     "output_type": "execute_result"
    }
   ],
   "source": [
    "batNARYS3[0,:]"
   ]
  },
  {
   "cell_type": "code",
   "execution_count": 41,
   "metadata": {
    "collapsed": false
   },
   "outputs": [
    {
     "data": {
      "text/plain": [
       "<xarray.DataArray 'Bathymetry' ()>\n",
       "array(38.0, dtype=float32)\n",
       "Attributes:\n",
       "    units: meters\n",
       "    long_name: Median depth by area\n",
       "    valid_min: 0.0\n",
       "    valid_max: 8380.8"
      ]
     },
     "execution_count": 41,
     "metadata": {},
     "output_type": "execute_result"
    }
   ],
   "source": [
    "batNARYS[0,-2]"
   ]
  },
  {
   "cell_type": "code",
   "execution_count": 52,
   "metadata": {
    "collapsed": false
   },
   "outputs": [
    {
     "data": {
      "text/plain": [
       "[<matplotlib.lines.Line2D at 0x7f485097ea50>]"
      ]
     },
     "execution_count": 52,
     "metadata": {},
     "output_type": "execute_result"
    },
    {
     "data": {
      "image/png": "[encoded data removed]",
      "text/plain": [
       "<matplotlib.figure.Figure at 0x7f4850c0fd90>"
      ]
     },
     "metadata": {},
     "output_type": "display_data"
    }
   ],
   "source": [
    "fig = plt.figure(figsize=(20,5))\n",
    "plt.plot(-1*batNA[0,:],'k.-')\n",
    "plt.plot(-1*batNA[1,:],'b.-')\n",
    "plt.plot(-1*batNARYS3[0,:],'r.-')"
   ]
  },
  {
   "cell_type": "code",
   "execution_count": 53,
   "metadata": {
    "collapsed": false
   },
   "outputs": [
    {
     "data": {
      "text/plain": [
       "[<matplotlib.lines.Line2D at 0x7f4850cd5290>]"
      ]
     },
     "execution_count": 53,
     "metadata": {},
     "output_type": "execute_result"
    },
    {
     "data": {
      "image/png": "[encoded data removed]",
      "text/plain": [
       "<matplotlib.figure.Figure at 0x7f4850c0f650>"
      ]
     },
     "metadata": {},
     "output_type": "display_data"
    }
   ],
   "source": [
    "fig = plt.figure(figsize=(20,5))\n",
    "plt.plot(-1*batNA[-1,:],'k.-')\n",
    "plt.plot(-1*batNA[-2,:],'b.-')\n",
    "plt.plot(-1*batNARYS3[-1,:],'r.-')"
   ]
  },
  {
   "cell_type": "code",
   "execution_count": null,
   "metadata": {
    "collapsed": true
   },
   "outputs": [],
   "source": []
  },
  {
   "cell_type": "code",
   "execution_count": null,
   "metadata": {
    "collapsed": true
   },
   "outputs": [],
   "source": []
  },
  {
   "cell_type": "code",
   "execution_count": null,
   "metadata": {
    "collapsed": true
   },
   "outputs": [],
   "source": []
  },
  {
   "cell_type": "code",
   "execution_count": null,
   "metadata": {
    "collapsed": true
   },
   "outputs": [],
   "source": []
  },
  {
   "cell_type": "code",
   "execution_count": null,
   "metadata": {
    "collapsed": true
   },
   "outputs": [],
   "source": []
  },
  {
   "cell_type": "code",
   "execution_count": null,
   "metadata": {
    "collapsed": true
   },
   "outputs": [],
   "source": []
  },
  {
   "cell_type": "code",
   "execution_count": 50,
   "metadata": {
    "collapsed": false
   },
   "outputs": [
    {
     "data": {
      "text/plain": [
       "<matplotlib.legend.Legend at 0x7f285960f7d0>"
      ]
     },
     "execution_count": 50,
     "metadata": {},
     "output_type": "execute_result"
    },
    {
     "data": {
      "image/png": "[encoded data removed]",
      "text/plain": [
       "<matplotlib.figure.Figure at 0x7f285a01c510>"
      ]
     },
     "metadata": {},
     "output_type": "display_data"
    }
   ],
   "source": [
    "def get_cmap(n, name='hsv'):\n",
    "    '''Returns a function that maps each index in 0, 1, ..., n-1 to a distinct \n",
    "    RGB color; the keyword argument name must be a standard mpl colormap name.'''\n",
    "    return plt.cm.get_cmap(name, n)\n",
    "\n",
    "cmap = get_cmap(10)\n",
    "\n",
    "fig1 = plt.figure(figsize=(14, 7))\n",
    "plt.plot(latNA[0,:],'k.',label='NACHOS12')\n",
    "for k in np.arange(10):\n",
    "    plt.plot(latGLOBOX[k,:],c=cmap(k),label='GLORYS BOX'+str(k))\n",
    "plt.legend(bbox_to_anchor=(1.05, 1), loc=2, borderaxespad=0.)"
   ]
  },
  {
   "cell_type": "code",
   "execution_count": null,
   "metadata": {
    "collapsed": true
   },
   "outputs": [],
   "source": []
  }
 ],
 "metadata": {
  "kernelspec": {
   "display_name": "Python [Root]",
   "language": "python",
   "name": "Python [Root]"
  },
  "language_info": {
   "codemirror_mode": {
    "name": "ipython",
    "version": 2
   },
   "file_extension": ".py",
   "mimetype": "text/x-python",
   "name": "python",
   "nbconvert_exporter": "python",
   "pygments_lexer": "ipython2",
   "version": "2.7.11"
  }
 },
 "nbformat": 4,
 "nbformat_minor": 0
}

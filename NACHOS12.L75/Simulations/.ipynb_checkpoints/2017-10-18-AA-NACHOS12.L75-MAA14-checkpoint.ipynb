{
 "cells": [
  {
   "cell_type": "markdown",
   "metadata": {
    "collapsed": true
   },
   "source": [
    "# NACHOS12.L75-MAA13\n",
    "\n",
    "__creation__ : 07/09/2017\n",
    "\n",
    "__purpose__ : same as [NACHOS12.L75-MAA12](2017-08-21-AA-NACHOS12.L75-MAA12.html) with new bathy that fits better the bdy from GLORYS2V4 (1/4°)\n",
    "\n",
    "__outcome__ : reference simulation, time_step at 360 for one year (2010), then 480 for the rest of the simulation (2011-2013)\n",
    "\n",
    "__run stats__ : 30h Wall-Time (~7.5h/year), ~47 000h CPU (+11 700h/year)\n",
    "\n",
    "__outputs__ : 4.5To 1d/1h outputs, 225Go 1m/1y means, 150Go restarts\n",
    "\n",
    "__monitoring__ :\n",
    "\n",
    " - yearly means : http://www-meom.hmg.inpg.fr/DRAKKAR/NACHOS12.L75/NACHOS12.L75-MAA13/python/\n",
    " - clim 2011-2013 : http://www-meom.hmg.inpg.fr/DRAKKAR/NACHOS12.L75/NACHOS12.L75-MAA13/CLIM_2011-2013/python/"
   ]
  },
  {
   "cell_type": "code",
   "execution_count": null,
   "metadata": {
    "collapsed": true
   },
   "outputs": [],
   "source": []
  }
 ],
 "metadata": {
  "kernelspec": {
   "display_name": "Python [Root]",
   "language": "python",
   "name": "Python [Root]"
  },
  "language_info": {
   "codemirror_mode": {
    "name": "ipython",
    "version": 2
   },
   "file_extension": ".py",
   "mimetype": "text/x-python",
   "name": "python",
   "nbconvert_exporter": "python",
   "pygments_lexer": "ipython2",
   "version": "2.7.11"
  }
 },
 "nbformat": 4,
 "nbformat_minor": 0
}

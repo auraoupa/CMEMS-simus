{
 "cells": [
  {
   "cell_type": "markdown",
   "metadata": {
    "collapsed": true
   },
   "source": [
    "# Comparaison NACHOS12.L75-MAA13 et MAA14\n",
    "\n",
    "__MAA13__ : run type DRAKKAR [MAA13](2017-10-18-AA-NACHOS12.L75-MAA13.html)\n",
    "\n",
    "__MAA14__ : run type MERCATOR [MAA14](2017-10-18-AA-NACHOS12.L75-MAA14.html)\n",
    "\n"
   ]
  },
  {
   "cell_type": "markdown",
   "metadata": {
    "collapsed": true
   },
   "source": [
    "## Differences\n",
    "\n",
    "Setting | Drakkar | Mercator\n",
    "---- | ---- | ----\n",
    "__CPP.keys__ | | \n",
    " | key_zdftke | key_zdfgls\n",
    "__Lateral boundary condition__ |  |\n",
    "rn_shlat | 0. (free slip) | 0.2 (partial slip)\n",
    "__Bottom boundary conditions__ |  |\n",
    "ln_bfr2d | true | false\n",
    "ln_loglayer | false | true\n",
    "ln_trabbc | false |  true\n",
    "__Tracer (T & S ) namelists__ |  |\n",
    "ln_mle (use the Mixed Layer Eddy (MLE) parameterisation) | false | true\n",
    "__Dynamics namelists__ |  |\n",
    "rn_avm0 (vertical eddy viscosity) | 1.2e-4  | 5.2e-5\n",
    "rn_avt0 (vertical eddy diffusivity) | 1.2e-5  | 5.2e-6\n",
    "nn_havtb (horizontal shape for avtb (=1) or not (=0)) |  1 | 0\n",
    "ln_zdfevd (enhanced vertical diffusion) | true | false\n",
    "rn_avevd (evd mixing coefficient) | 100. | 10.\n",
    "ln_zdfnpc (Non-Penetrative Convective algorithm) | true | false\n",
    "\n"
   ]
  },
  {
   "cell_type": "markdown",
   "metadata": {},
   "source": [
    "## Results\n",
    "\n",
    " - yearly means : http://www-meom.hmg.inpg.fr/DRAKKAR/NACHOS12.L75/NACHOS12.L75-MAA13-MAA14/python/\n",
    " - clim 2011-2013 : http://www-meom.hmg.inpg.fr/DRAKKAR/NACHOS12.L75/NACHOS12.L75-MAA13-MAA14/CLIM_2011-2013/python/"
   ]
  },
  {
   "cell_type": "code",
   "execution_count": null,
   "metadata": {
    "collapsed": true
   },
   "outputs": [],
   "source": []
  }
 ],
 "metadata": {
  "kernelspec": {
   "display_name": "Python [Root]",
   "language": "python",
   "name": "Python [Root]"
  },
  "language_info": {
   "codemirror_mode": {
    "name": "ipython",
    "version": 2
   },
   "file_extension": ".py",
   "mimetype": "text/x-python",
   "name": "python",
   "nbconvert_exporter": "python",
   "pygments_lexer": "ipython2",
   "version": "2.7.15"
  }
 },
 "nbformat": 4,
 "nbformat_minor": 1
}

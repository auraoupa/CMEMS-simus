{
 "cells": [
  {
   "cell_type": "markdown",
   "metadata": {
    "collapsed": true
   },
   "source": [
    "# Comparaison NACHOS12.L75-MAA13 et MAA15\n",
    "\n",
    "__MAA13__ : run de référence [MAA13](2017-10-18-AA-NACHOS12.L75-MAA13.html)\n",
    "\n",
    "__MAA15__ : test sur schéma d'advection [MAA15](2017-11-30-AA-NACHOS12.L75-MAA15.html)\n",
    "\n"
   ]
  },
  {
   "cell_type": "markdown",
   "metadata": {
    "collapsed": true
   },
   "source": [
    "## Differences\n",
    "\n",
    "Setting | MAA13 | MAA15\n",
    "---- | ---- | ----\n",
    "__Dynamics namelists__ |  |\n",
    "ln_dynadv_vec | false  | true\n",
    "ln_dynadv_ubs | true  | false\n",
    "ln_dynldf_blp |  false | true\n",
    "rn_bhm_0 (horizontal bilaplacian eddy viscosity)| - | 2.160e13\n",
    "\n"
   ]
  },
  {
   "cell_type": "markdown",
   "metadata": {},
   "source": [
    "## Results\n",
    "\n",
    " - yearly means : http://www-meom.hmg.inpg.fr/DRAKKAR/NACHOS12.L75/NACHOS12.L75-MAA13-MAA15/python/\n",
    " - clim 2011-2013 : http://www-meom.hmg.inpg.fr/DRAKKAR/NACHOS12.L75/NACHOS12.L75-MAA13-MAA15/CLIM_2011-2013/python/"
   ]
  },
  {
   "cell_type": "code",
   "execution_count": null,
   "metadata": {
    "collapsed": true
   },
   "outputs": [],
   "source": []
  }
 ],
 "metadata": {
  "kernelspec": {
   "display_name": "Python [Root]",
   "language": "python",
   "name": "Python [Root]"
  },
  "language_info": {
   "codemirror_mode": {
    "name": "ipython",
    "version": 2
   },
   "file_extension": ".py",
   "mimetype": "text/x-python",
   "name": "python",
   "nbconvert_exporter": "python",
   "pygments_lexer": "ipython2",
   "version": "2.7.15"
  }
 },
 "nbformat": 4,
 "nbformat_minor": 1
}

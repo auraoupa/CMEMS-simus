{
 "cells": [
  {
   "cell_type": "markdown",
   "metadata": {
    "collapsed": true
   },
   "source": [
    "# Comparaison NACHOS12.L75-MAA13 et MAA4002\n",
    "\n",
    "__MAA13__ : run de référence [MAA13](../MAA13/2017-10-18-AA-NACHOS12.L75-MAA13.ipynb)\n",
    "\n",
    "__MAA4002__ : version NEMO 4.0 beta [MAA4002](../MAA4002/2019-04-03-AA-NACHOS12.L75-MAA4002.ipynb)\n",
    "\n"
   ]
  },
  {
   "cell_type": "markdown",
   "metadata": {
    "collapsed": true
   },
   "source": [
    "## Differences\n",
    "\n",
    "Setting | MAA13 | MAA4002\n",
    "---- | ---- | ----\n",
    "__NEMO Version__ | trunk rev 7046 | trunk rev 10089\n",
    "\n",
    "\n"
   ]
  },
  {
   "cell_type": "markdown",
   "metadata": {},
   "source": [
    "## Results\n",
    "\n",
    " - clim 2011-2013 : http://ige-meom-drakkar.univ-grenoble-alpes.fr/DRAKKAR//NACHOS12.L75/NACHOS12.L75-MAA13-MAA4002/CLIM_2011-2013/python/"
   ]
  },
  {
   "cell_type": "code",
   "execution_count": null,
   "metadata": {
    "collapsed": true
   },
   "outputs": [],
   "source": []
  }
 ],
 "metadata": {
  "kernelspec": {
   "display_name": "Python [Root]",
   "language": "python",
   "name": "Python [Root]"
  },
  "language_info": {
   "codemirror_mode": {
    "name": "ipython",
    "version": 2
   },
   "file_extension": ".py",
   "mimetype": "text/x-python",
   "name": "python",
   "nbconvert_exporter": "python",
   "pygments_lexer": "ipython2",
   "version": "2.7.15"
  }
 },
 "nbformat": 4,
 "nbformat_minor": 1
}

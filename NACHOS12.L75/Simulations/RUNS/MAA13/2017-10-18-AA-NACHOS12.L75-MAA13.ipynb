{
 "cells": [
  {
   "cell_type": "markdown",
   "metadata": {
    "collapsed": true
   },
   "source": [
    "# NACHOS12.L75-MAA13\n",
    "\n",
    "__date of running__ : 07/09/2017\n",
    "\n",
    "__purpose__ : Reference Simulation\n",
    "\n",
    "__namelists__ : \n",
    "\n",
    " - [ocean namelist](https://github.com/auraoupa/CMEMS-simus/blob/master/NACHOS12.L75/Simulations/RUNS/MAA13/namelist.NACHOS12.L75-MAA13)\n",
    " - [ice namelist](https://github.com/auraoupa/CMEMS-simus/blob/master/NACHOS12.L75/Simulations/RUNS/MAA13/namelist_ice)\n",
    "\n",
    "__run stats__ : 30h Wall-Time (~7.5h/year), ~47 000h CPU (+11 700h/year)\n",
    "\n",
    "__outputs__ : 4.5To 1d/1h outputs, 225Go 1m/1y means, 150Go restarts\n",
    "\n",
    "__monitoring__ :\n",
    "\n",
    " - yearly means : http://www-meom.hmg.inpg.fr/DRAKKAR/NACHOS12.L75/NACHOS12.L75-MAA13/python/\n",
    " - clim 2011-2013 : http://www-meom.hmg.inpg.fr/DRAKKAR/NACHOS12.L75/NACHOS12.L75-MAA13/CLIM_2011-2013/python/"
   ]
  },
  {
   "cell_type": "code",
   "execution_count": null,
   "metadata": {},
   "outputs": [],
   "source": []
  }
 ],
 "metadata": {
  "kernelspec": {
   "display_name": "Python 2",
   "language": "python",
   "name": "python2"
  },
  "language_info": {
   "codemirror_mode": {
    "name": "ipython",
    "version": 2
   },
   "file_extension": ".py",
   "mimetype": "text/x-python",
   "name": "python",
   "nbconvert_exporter": "python",
   "pygments_lexer": "ipython2",
   "version": "2.7.16"
  }
 },
 "nbformat": 4,
 "nbformat_minor": 1
}

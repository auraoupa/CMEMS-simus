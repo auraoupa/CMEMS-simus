{
 "cells": [
  {
   "cell_type": "markdown",
   "metadata": {
    "collapsed": true
   },
   "source": [
    "# NACHOS12.L75-MAA4002\n",
    "\n",
    "__date of running__ : 23/03/2017\n",
    "\n",
    "__purpose__ : Reference Simulation (2011-2013) with NEMO4.0 rev 10650, following MAA4001 (2010)\n",
    "\n",
    "__namelists__ : \n",
    "\n",
    " - [ocean namelist](namelist.NACHOS12.L75-MAA4002)\n",
    " - [ice namelist](namelist_ice)\n",
    "\n",
    "__run stats__ : 35h Wall-Time (~12h/year), ~57 500h CPU (+20 000h/year)\n",
    "\n",
    "__outputs__ : 2.3To 1d/1h outputs, 173Go 1m/1y means\n",
    "\n",
    "__monitoring__ :\n",
    "\n",
    " - yearly means : http://ige-meom-drakkar.univ-grenoble-alpes.fr/DRAKKAR//NACHOS12.L75/NACHOS12.L75-MAA4002/python/\n",
    " - clim 2011-2013 : http://ige-meom-drakkar.univ-grenoble-alpes.fr/DRAKKAR//NACHOS12.L75/NACHOS12.L75-MAA4002/CLIM_2011-2013/python/"
   ]
  },
  {
   "cell_type": "code",
   "execution_count": null,
   "metadata": {},
   "outputs": [],
   "source": []
  }
 ],
 "metadata": {
  "kernelspec": {
   "display_name": "Python [Root]",
   "language": "python",
   "name": "Python [Root]"
  },
  "language_info": {
   "codemirror_mode": {
    "name": "ipython",
    "version": 2
   },
   "file_extension": ".py",
   "mimetype": "text/x-python",
   "name": "python",
   "nbconvert_exporter": "python",
   "pygments_lexer": "ipython2",
   "version": "2.7.15"
  }
 },
 "nbformat": 4,
 "nbformat_minor": 1
}

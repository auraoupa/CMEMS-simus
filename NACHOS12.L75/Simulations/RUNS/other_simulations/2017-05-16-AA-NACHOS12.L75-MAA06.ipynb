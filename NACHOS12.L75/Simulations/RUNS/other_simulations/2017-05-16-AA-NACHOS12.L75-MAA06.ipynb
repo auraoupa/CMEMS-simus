{
 "cells": [
  {
   "cell_type": "markdown",
   "metadata": {},
   "source": [
    "# NACHOS12.L75-MAA06\n",
    "\n",
    "__creation__ : 16/05/2017\n",
    "\n",
    "__purpose__ : same as [NACHOS12.L75-MAA05](2017-05-09-AA-NACHOS12.L75-MAA05.html) with bathy file different (more baltic sea for damping purposes) and nb of procs different : 1558 procs 62x48 and 26 procs for xios\n",
    "\n",
    "__outcome__ : pb in coordinates (offset in latitude) + wrong mxl due to GLORYS2V3"
   ]
  }
 ],
 "metadata": {
  "kernelspec": {
   "display_name": "Python 2",
   "language": "python",
   "name": "python2"
  },
  "language_info": {
   "codemirror_mode": {
    "name": "ipython",
    "version": 2
   },
   "file_extension": ".py",
   "mimetype": "text/x-python",
   "name": "python",
   "nbconvert_exporter": "python",
   "pygments_lexer": "ipython2",
   "version": "2.7.13"
  }
 },
 "nbformat": 4,
 "nbformat_minor": 0
}

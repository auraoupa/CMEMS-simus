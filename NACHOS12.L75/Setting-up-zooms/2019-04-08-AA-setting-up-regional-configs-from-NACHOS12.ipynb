{
 "cells": [
  {
   "cell_type": "markdown",
   "metadata": {},
   "source": [
    "# Setting up the regional configs at 1/36° from NACHOS12.L75 with NEMO 4.0 rev 10650\n",
    "\n",
    "## What region\n",
    "\n",
    "We want a geographical area that will run at 1/24° at the same cost than a full NACHOS run at 1/12° : 40° x 25° or 20° x 50° for each.\n",
    "\n",
    "We want to cover LatMix and OSMOSIS campaign, so a Gulf Stream config and a  European coast config.\n",
    "\n",
    "First guess :\n",
    " - GS : 82°W-35°W x 28°N-50°N\n",
    " - EU : 24.25°W-5°E x 32°N-65.5°N\n",
    " \n",
    " \n",
    "## The grid\n",
    "\n",
    " - cdffindij -c NACHOS12.L75_coordinates.nc lon_beg lon_end lat_beg lat_end to get the indices inside NACHOS' grid for the regional config\n",
    " - use the NESTING_TOOLS and GEBCO08 with refinement factor of 3 and NACHOS coordinates and bathymetry to get coordinates for the zoom and a first estimation of bathymetry\n",
    " \n",
    "## Bathymetry\n",
    "\n",
    "  - use BMGTOOLS and world_coastlineto modify the coast (nesting tools produces garbage coastline) \n",
    " "
   ]
  },
  {
   "cell_type": "code",
   "execution_count": null,
   "metadata": {},
   "outputs": [],
   "source": []
  }
 ],
 "metadata": {
  "kernelspec": {
   "display_name": "Python 2",
   "language": "python",
   "name": "python2"
  },
  "language_info": {
   "codemirror_mode": {
    "name": "ipython",
    "version": 2
   },
   "file_extension": ".py",
   "mimetype": "text/x-python",
   "name": "python",
   "nbconvert_exporter": "python",
   "pygments_lexer": "ipython2",
   "version": "2.7.16"
  }
 },
 "nbformat": 4,
 "nbformat_minor": 2
}

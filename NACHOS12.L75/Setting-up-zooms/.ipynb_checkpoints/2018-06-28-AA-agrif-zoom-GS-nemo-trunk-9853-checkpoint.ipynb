{
 "cells": [
  {
   "cell_type": "markdown",
   "metadata": {},
   "source": [
    "# Everything needed to make an AGRIF zoom run\n",
    "\n",
    "## Implementation of GS (Gulf Stream) zoom at 1/24°\n",
    "\n",
    "### Define the area\n",
    "\n",
    " - x,192,759 -d y,586,922\n",
    " \n",
    "### Nesting Tools for initial files\n",
    "\n",
    " - compiling the tool, in /scratch/cnt0024/hmg2840/albert7a/DEV/NEMODRAK_4.1/NEMOREF/NEMOGCM/tools\n",
    "   - ./maketools -n NESTING -m X64_OCCIGEN2jm2\n",
    "\n",
    "### Construct new weights\n",
    "\n",
    "  - for atmospheric forcing\n",
    "  - for GLORYS2V4 initial conditions : new pseudo-coordinates\n",
    "  \n",
    "### Compilation of the code\n",
    "\n",
    "### Running scripts"
   ]
  },
  {
   "cell_type": "code",
   "execution_count": null,
   "metadata": {
    "collapsed": true
   },
   "outputs": [],
   "source": []
  }
 ],
 "metadata": {
  "kernelspec": {
   "display_name": "Python [Root]",
   "language": "python",
   "name": "Python [Root]"
  },
  "language_info": {
   "codemirror_mode": {
    "name": "ipython",
    "version": 2
   },
   "file_extension": ".py",
   "mimetype": "text/x-python",
   "name": "python",
   "nbconvert_exporter": "python",
   "pygments_lexer": "ipython2",
   "version": "2.7.15"
  }
 },
 "nbformat": 4,
 "nbformat_minor": 1
}

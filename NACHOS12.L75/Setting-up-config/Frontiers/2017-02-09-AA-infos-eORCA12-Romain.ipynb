{
 "cells": [
  {
   "cell_type": "markdown",
   "metadata": {},
   "source": [
    "# Le setting eORCA12 de Mercator \n",
    "\n",
    "__source__ : ftp://ftp.mercator-ocean.fr/download/users/rbourdal/AALBERT/\n",
    "\n",
    "__referent__ : Romain\n",
    "\n",
    "__commentaire__ :\n",
    "\n",
    "> C'est une simu sans les iceselves explicites (suis pas fou ! ;-)) et donc j'ai un domaine avec un ncks au demarrage....\n",
    "\n",
    "> J'ai aussi mis la namelsit_ocean (et glace mais ça vu ton domaine tu t'en fous je pense !)  et un run.txt ou je te mets le ncks que je fais avant de partir (pour pas le faire a chaque fois mets les fichiers resultats a un endroit et repart de cela a chaque restart ça evite 3-4mn de ncks).... je perfere te donner les fichiers complets car c'est eux et eux seuls qu'il faut ou pas modifier !\n",
    "\n",
    "> Par rapport a ma simu j'ai virer un ou 2 trucs (comme le forçage en pression atmo) car avec un modele de bassin c'est un peu plus chiant notament  pour la pression de reference globale....\n",
    "\n",
    "> Pour les forçage la j'ai des ERAinterim corrige par Gilles (donc il y a des correction online ET offline !) ... peut etre mieux que vous partiez d'un set de forçage plus classique pour vous....\n",
    "Par contre j'ai mis les bulk IFS file dasn une version beta par Laurent Brodeau.... mais il y a pas de diff avec la version actuelle, a part les noms de bloc de namelist.\n"
   ]
  },
  {
   "cell_type": "markdown",
   "metadata": {},
   "source": [
    "## Les inputs\n",
    "\n",
    "- namelist_ocean : [namelist-ORCA12-TRBB36s003b](ftp://ftp.mercator-ocean.fr/download/users/rbourdal/AALBERT/namelist-ORCA12-TRBB36s003b)\n",
    "- namelist_ice : [namelist_ice-ORCA12-TRBB36s003b](ftp://ftp.mercator-ocean.fr/download/users/rbourdal/AALBERT/namelist_ice-ORCA12-TRBB36s003b)\n",
    "- cpp_keys : [cpp_ORCA12-TRBB36s003b.fcm](ftp://ftp.mercator-ocean.fr/download/users/rbourdal/AALBERT/cpp_ORCA12-TRBB36s003b.fcm)\n",
    "- ncks de départ : [run.txt](ftp://ftp.mercator-ocean.fr/download/users/rbourdal/AALBERT/run.txt)\n",
    "- coordinates : eORCA_R12_coordinates_v3.0.nc (4322x3617)\n",
    "- bathymetry : eORCA12_bathymetry_v2.4.nc\n",
    "- init & damping\n",
    "    * temperature : potential_temperature_WOA13_decav_Reg1L75_clim.nc\n",
    "    * salinity : practical_salinity_WOA13_decav_Reg1L75_clim.nc\n",
    "- surface forcing : ERAinterim\\* & weight_ERAi\\*    \n",
    "- penetrative solar radiation : merged_ESACCI_BIOMER4V1R1_CHL_REG05.nc\n",
    "- runoffs : eORCA12_runoff_v3.nc\n",
    "- sea surface restoring : sss_practical_salinity_WOA13_decav_Reg1L75_clim.nc\n",
    "- bottom boundary condition : Goutorbe_ghflux.nc\n",
    "- ice initialization : Init_Ice_REGULA05_y1979m01_v2.nc\n"
   ]
  },
  {
   "cell_type": "markdown",
   "metadata": {},
   "source": [
    "## Les paramètres\n",
    "\n",
    "- from ccp_keys :\n",
    "  - lim3\n",
    "  - vvl\n",
    "  - dynspg_ts\n",
    "  - ldfslp\n",
    "  - traldf_c2d\n",
    "  - zdfgls\n",
    "  - zdfddm\n",
    "  - zdftmx\n",
    "  - xios2\n",
    "  \n",
    "- from namelist_ocean :\n",
    "  - partial steps\n",
    "  - bulk CORE\n",
    "  - TVD scheme for tracer\n",
    "  - lateral diffusion for tracer\n",
    "    - laplacian operator\n",
    "    - iso-neutral\n",
    "    - rn_aht_0=100.\n",
    "    - rn_ahtb_0=0.\n",
    "  - UBS for momentum\n",
    "  - vvl_zstar\n",
    "  - een_old\n",
    "  - s-coord sco\n",
    "  - lateral diffusion for momentum\n",
    "    - hor\n",
    "  - vertical physics\n",
    "    - eddy viscosity : rn_avm0=5.2e-5\n",
    "    - eddy diffusivity : rn_avt0=5.2e-6\n",
    "  - GLS\n",
    "    - rn_emin=1e-7\n",
    "    - rn_epsmin=1e-12"
   ]
  },
  {
   "cell_type": "code",
   "execution_count": null,
   "metadata": {
    "collapsed": true
   },
   "outputs": [],
   "source": []
  }
 ],
 "metadata": {
  "kernelspec": {
   "display_name": "Python [Root]",
   "language": "python",
   "name": "Python [Root]"
  },
  "language_info": {
   "codemirror_mode": {
    "name": "ipython",
    "version": 2
   },
   "file_extension": ".py",
   "mimetype": "text/x-python",
   "name": "python",
   "nbconvert_exporter": "python",
   "pygments_lexer": "ipython2",
   "version": "2.7.11"
  }
 },
 "nbformat": 4,
 "nbformat_minor": 0
}

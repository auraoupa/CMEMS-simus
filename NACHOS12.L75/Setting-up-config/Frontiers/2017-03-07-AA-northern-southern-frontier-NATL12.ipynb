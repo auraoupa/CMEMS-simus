{
 "cells": [
  {
   "cell_type": "markdown",
   "metadata": {},
   "source": [
    "# Northern and southern frontier for NACHOS12\n",
    "\n",
    "\n",
    "Summary of past decisions :\n",
    "  - no Black Sea\n",
    "  - no Hudson Bay (open frontier with tide forcing when we add tides, simple restoring otherwise)"
   ]
  },
  {
   "cell_type": "markdown",
   "metadata": {},
   "source": [
    "## 0. Baltic Sea removed\n",
    "\n",
    "In order to gain performance, we decided to remove the Baltic up to the Kattegatt Bay (strait between Danemark and Sweden) : 18 659 oceanic grid points removed at high latitude (>50°N)"
   ]
  },
  {
   "cell_type": "markdown",
   "metadata": {},
   "source": [
    "## 1. Grid points"
   ]
  },
  {
   "cell_type": "markdown",
   "metadata": {},
   "source": [
    "total grid points :\n",
    " - 28°S-80°N : 2 690 248 grid points\n",
    " - 20°S-80°N : 2 522 912 grid points (-6.22%)\n",
    " - 28°S-70°N : 2 299 261 grid points (-14.53%)\n",
    " - 20°S-70°N : 2 131 925 grid points (-20.75%)"
   ]
  },
  {
   "cell_type": "markdown",
   "metadata": {},
   "source": [
    "oceanic grid points :\n",
    " - 28°S-80°N : 1 207 853 oceanic grid points\n",
    " - 20°S-80°N : 1 134 598 oceanic grid points (-6.1%)\n",
    " - 28°S-70°N : 1 074 824 oceanic grid points (-11%)\n",
    " - 20°S-70°N : 1 001 569 oceanic grid points (-17.07%)"
   ]
  },
  {
   "cell_type": "markdown",
   "metadata": {
    "collapsed": true
   },
   "source": [
    "## 2. Bathymetry"
   ]
  },
  {
   "cell_type": "markdown",
   "metadata": {},
   "source": [
    "\n",
    "<img width=\"800\" src=\"bathys_all_natl12.png\" align=\"left\"></img>"
   ]
  },
  {
   "cell_type": "markdown",
   "metadata": {
    "collapsed": true
   },
   "source": [
    "## 3. The northern boundary\n",
    "\n",
    "We propose to keep it at Fram strait (80°N) :\n",
    "   * pros : better for northern seas studies, a good margin from NATL60 northern boundary\n",
    "   * cons : northern points are expensive\n",
    "   \n",
    "## 4. The southern bounday\n",
    "\n",
    "We propose to fix it at 20°S :\n",
    "   * we know the behaviour of a 20°S frontier \n",
    "   * away from Aguilhas Current retroflection\n",
    "   * away from confluence of Brazil and Malvinas currents, and Zapiola system\n"
   ]
  },
  {
   "cell_type": "markdown",
   "metadata": {},
   "source": [
    "<img width=\"800\" src=\"eke_orca12_south_atl.png\" align=\"left\"></img>"
   ]
  },
  {
   "cell_type": "markdown",
   "metadata": {},
   "source": [
    "## 5. The chosen bathymetry"
   ]
  },
  {
   "cell_type": "markdown",
   "metadata": {},
   "source": [
    "\n",
    "<img width=\"800\" src=\"bathys_nachos12.png\" align=\"left\"></img>"
   ]
  }
 ],
 "metadata": {
  "kernelspec": {
   "display_name": "Python [Root]",
   "language": "python",
   "name": "Python [Root]"
  },
  "language_info": {
   "codemirror_mode": {
    "name": "ipython",
    "version": 2
   },
   "file_extension": ".py",
   "mimetype": "text/x-python",
   "name": "python",
   "nbconvert_exporter": "python",
   "pygments_lexer": "ipython2",
   "version": "2.7.11"
  }
 },
 "nbformat": 4,
 "nbformat_minor": 0
}

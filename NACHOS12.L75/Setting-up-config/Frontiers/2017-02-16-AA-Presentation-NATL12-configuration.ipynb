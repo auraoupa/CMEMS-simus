{
 "cells": [
  {
   "cell_type": "markdown",
   "metadata": {},
   "source": [
    "#  NATL12\n",
    "\n",
    "__source__ : from Romain eORCA12 grid"
   ]
  },
  {
   "cell_type": "markdown",
   "metadata": {},
   "source": [
    "## 1. Definition of the grid and bathymetry fixes\n",
    "\n",
    "### Cut at :\n",
    "  - 30°S\n",
    "  - Fram strait in the North 80°N\n",
    "  - encompassing Golf of Mexico 100°W\n",
    "  - encompassing all of Mediteranean Sea 60°E\n",
    "\n",
    "### Get rid of :\n",
    "  - Pacific ocean in the South West corner\n",
    "  - Indian ocean in the South East corner\n",
    "  - North American lakes\n",
    "  - Black Sea and Marmara\n",
    "  - Hudson Bay and Fox Basin\n",
    "\n",
    "\n",
    "<img width=\"800\" src=\"bathy_NATL12.png\"></img>"
   ]
  },
  {
   "cell_type": "markdown",
   "metadata": {},
   "source": [
    "### Grid points\n",
    "\n",
    "Result : 1609 x 1700 = 2 735 300 grid points, 17.55% of eORCA12\n",
    "\n",
    "### Expected performances \n",
    "\n",
    "- NATL12 : less than 32 000h CPU/yr (according to EORCA12 perfomances on occigen) because no icebergs, no iceshelves, no north-folding, bigger timestep ... (difficult to estimate the gain)\n",
    "\n",
    "- zoom 1/24° on NATL60 region : 100 000h CPU/yr => need for a smaller region\n",
    "\n",
    "<img width=\"800\" src=\"bathy_all_domain.png\"></img>"
   ]
  },
  {
   "cell_type": "markdown",
   "metadata": {},
   "source": [
    "## 2. Proposed plan of simulations\n",
    "\n",
    "We propose to directly start with NEMO 4.0\n",
    "\n",
    "### 2.1 scalability tests\n",
    "  \n",
    "Optimal choice of decomposition given by MPP_PREP : 1602 procs, 49x61 sub-domains whose size is 35x30, 1387 continental sub-domains eliminated\n",
    "\n",
    "<img width=\"800\" src=\"NATL12-049x061_1602.gif\"></img>\n"
   ]
  },
  {
   "cell_type": "markdown",
   "metadata": {},
   "source": [
    "### 2.2 MERCATOR setting\n",
    "\n",
    "What do we keep from Romain's setting ?\n",
    "\n",
    "### 2.3 DRAKKAR setting \n",
    "\n",
    "Grand Défi's code in 4.0 without icebergs & iceshelves\n",
    "  "
   ]
  }
 ],
 "metadata": {
  "kernelspec": {
   "display_name": "Python [Root]",
   "language": "python",
   "name": "Python [Root]"
  },
  "language_info": {
   "codemirror_mode": {
    "name": "ipython",
    "version": 2
   },
   "file_extension": ".py",
   "mimetype": "text/x-python",
   "name": "python",
   "nbconvert_exporter": "python",
   "pygments_lexer": "ipython2",
   "version": "2.7.11"
  }
 },
 "nbformat": 4,
 "nbformat_minor": 0
}

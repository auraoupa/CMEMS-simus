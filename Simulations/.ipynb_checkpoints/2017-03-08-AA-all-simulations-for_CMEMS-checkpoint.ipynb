{
 "cells": [
  {
   "cell_type": "markdown",
   "metadata": {},
   "source": [
    "# Catalogue of all simulations produced in the CMEMS framework"
   ]
  },
  {
   "cell_type": "markdown",
   "metadata": {},
   "source": [
    " Name of simulation | DCM version  | Code version (http://forge.ipsl.jussieu.fr/nemo) | arch  | LIM\n",
    " ------------------ |-------------| ------------ | ------- | ---\n",
    " [NATL12-MAATEST](2017-03-08-AA-NATL12-MAATEST.html)    | NEMODRAK_3.6_trunk | branches/2015/nemo_v3_6_STABLE rev 6975 | X64_OCCIGEN | LIM2\n",
    " [NATL12-MAATEST2](2017-03-08-AA-NATL12-MAATEST2.html)    | NEMODRAK_trunk.git | trunk rev 7046 | X64_OCCIGEN2jm2 | LIM3\n",
    " [NACHOS12.L75-MAA01](2017-04-10-AA-NACHOS12.L75-MAA01.html) | NEMODRAK_trunk.git | trunk rev 7046 | X64_OCCIGEN2jm2 | LIM3 | init not masked\n",
    " [NACHOS12.L75-MAA02](2017-04-10-AA-NACHOS12.L75-MAA02.html) | NEMODRAK_trunk.git | trunk rev 7046 | X64_OCCIGEN2jm2 | LIM3 | init masked"
   ]
  },
  {
   "cell_type": "code",
   "execution_count": null,
   "metadata": {
    "collapsed": true
   },
   "outputs": [],
   "source": []
  }
 ],
 "metadata": {
  "kernelspec": {
   "display_name": "Python [Root]",
   "language": "python",
   "name": "Python [Root]"
  },
  "language_info": {
   "codemirror_mode": {
    "name": "ipython",
    "version": 2
   },
   "file_extension": ".py",
   "mimetype": "text/x-python",
   "name": "python",
   "nbconvert_exporter": "python",
   "pygments_lexer": "ipython2",
   "version": "2.7.11"
  }
 },
 "nbformat": 4,
 "nbformat_minor": 0
}

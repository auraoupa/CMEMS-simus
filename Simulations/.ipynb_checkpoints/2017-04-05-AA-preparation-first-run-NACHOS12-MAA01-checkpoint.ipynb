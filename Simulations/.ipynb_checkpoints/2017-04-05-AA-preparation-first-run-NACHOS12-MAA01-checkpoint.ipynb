{
 "cells": [
  {
   "cell_type": "markdown",
   "metadata": {},
   "source": [
    "# NACHOS12-MAA01\n",
    "\n",
    "First run with everything like EORCA12.L75-MJMgd16 without iceberg modules and modifs, ice shelf cavities, iceberg budget"
   ]
  },
  {
   "cell_type": "markdown",
   "metadata": {},
   "source": [
    "## Compilation\n",
    "\n",
    " - NEMO version : NEMODRAK_4.0, svn co  -r 7046  http://forge.ipsl.jussieu.fr/nemo/svn/trunk/NEMOGCM\n",
    " - reference config : EORCA12.L75-MJMgd16\n",
    " - CPP.keys : key_trabbl, key_zdftke, key_zdftmx, key_lim3, key_mpp_mpi, key_iomput, key_xios2\n",
    " - modified routines\n",
    "   * domzgr.F90 -> OPA_SRC/DOM/domzgr.F90  => ln_isfcav fixes pour bathy\n",
    "   * istate.F90 -> OPA_SRC/DOM/istate.F90  => init tsb ?\n",
    "   * ldfc1d_c2d.F90 -> OPA_SRC/LDF/ldfc1d_c2d.F90 => different handling of masks in diffusivity coefficient computation\n",
    "   * lib_mpp.F90 -> OPA_SRC/LBC/lib_mpp.F90 => conditions for mmp_stop more drastic\n",
    "   * sbcrnf.F90 -> OPA_SRC/SBC/sbcrnf.F90 => get rid of negative runoffs\n",
    "   * zdftke.F90 -> OPA_SRC/ZDF/zdftke.F90 => behavior below sea ice\n",
    "\n"
   ]
  },
  {
   "cell_type": "markdown",
   "metadata": {
    "collapsed": true
   },
   "source": [
    "##  BDY\n",
    "\n",
    "  * from ZNATL12.L75-MJMgd16 data : [namelist](namelist.NACHOS12.L75-MAATEST), params :\n",
    "    - CONFIG_IN=ZNATL12.L75\n",
    "    - CASE_IN=MJMgd16\n",
    "    - CONFIG_BDY=NACHOS12.L75\n",
    "    - CASE_BDY=MAATEST\n",
    "    - imin=5\n",
    "    - jmin=65\n",
    "    - years=2010-2010\n",
    "    \n",
    "  * fortran routine to mask of the nothern boundary : [mkmask](mkmask.f90), script : [make_mask_bdy_north.ksh](make_mask_bdy_north.ksh)\n",
    "  \n",
    "=> results : in /scratch/cnt0024/hmg2840/albert7a/NACHOS12.L75/NACHOS12.L75-I/BDY NACHOS12.L75_[N/S]bdy[SSH/TS/U/V]_y2010.nc"
   ]
  },
  {
   "cell_type": "markdown",
   "metadata": {},
   "source": [
    "## Bathymetry and coordinates files\n",
    "\n",
    "  * from [eORCA12_bathymetry_v2.4.nc](ftp://ftp.mercator-ocean.fr/download/users/rbourdal/AALBERT/eORCA12_bathymetry_v2.4.nc.gz) and [eORCA_R12_coordinates_v3.0.nc](ftp://ftp.mercator-ocean.fr/download/users/rbourdal/AALBERT/eORCA_R12_coordinates_v3.0.nc): cut ncks -F -d x,2271,3879 -d y,1807,3374\n",
    "  \n",
    "  * filling Lakes, Pacific Ocean, Indian Ocean, Red Sea, Black Sea, Hudson Bay, Baltique Sea, Northern Greenland Bays with bmgtools\n",
    "  \n",
    "=> results : in /scratch/cnt0024/hmg2840/albert7a/NACHOS12.L75/NACHOS12.L75-I NACHOS12.L75_coordinates_20S_80N.nc & NACHOS12.L75_bathymetry_20S_80N_nfrontiercleaned.nc"
   ]
  },
  {
   "cell_type": "markdown",
   "metadata": {},
   "source": [
    "## MPP_PREP\n",
    "\n",
    " *  run mpp_optimize with [namelist](namelist_MPP_PREP) => processor.layout\n",
    " *  ./screen.ksh 1560 => decompositions, the most optimal 49x61\n",
    " *  mpp_optimize.exe -keep 49 61\n",
    " *  ./plover_nc.ksh -f  NATL12-049x061_1560 => [NATL12-049x061_1560.gif](NATL12-049x061_1560.gif)"
   ]
  },
  {
   "cell_type": "markdown",
   "metadata": {},
   "source": [
    "## Init files\n",
    "\n",
    "  * [script](rapat_init_files.ksh)\n",
    "  * from /scratch/cnt0024/hmg2840/molines/eORCA12.L75/eORCA12.L75-I files, cut ncks -F -d x,2271,3879 -d y,1807,3374\n",
    "  * from /scratch/cnt0024/hmg2840/molines/ORCA12.L46/ORCA12.L46-I/ files, cut ncks -F -d x,2271,3879 -d y,1260,2827 \n",
    "  * reflechir à dmp_mask : rappel baie hudson et entrée baltique"
   ]
  },
  {
   "cell_type": "markdown",
   "metadata": {},
   "source": [
    "## Running scripts\n",
    "\n",
    "  * from EORCA12.L75-scal/CTL\n",
    "  * [includefile.ksh](includefile.ksh)\n",
    "  * [namelist](namelist.NACHOS12.L75-MAA01)"
   ]
  },
  {
   "cell_type": "code",
   "execution_count": null,
   "metadata": {
    "collapsed": true
   },
   "outputs": [],
   "source": []
  }
 ],
 "metadata": {
  "kernelspec": {
   "display_name": "Python [Root]",
   "language": "python",
   "name": "Python [Root]"
  },
  "language_info": {
   "codemirror_mode": {
    "name": "ipython",
    "version": 2
   },
   "file_extension": ".py",
   "mimetype": "text/x-python",
   "name": "python",
   "nbconvert_exporter": "python",
   "pygments_lexer": "ipython2",
   "version": "2.7.11"
  }
 },
 "nbformat": 4,
 "nbformat_minor": 0
}

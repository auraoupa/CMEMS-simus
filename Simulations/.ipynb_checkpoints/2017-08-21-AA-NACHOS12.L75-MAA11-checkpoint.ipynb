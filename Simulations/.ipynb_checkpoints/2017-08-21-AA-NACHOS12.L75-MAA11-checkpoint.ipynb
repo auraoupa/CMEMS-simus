{
 "cells": [
  {
   "cell_type": "markdown",
   "metadata": {
    "collapsed": true
   },
   "source": [
    "# NACHOS12.L75-MAA11\n",
    "\n",
    "__creation__ : 28/07/2017\n",
    "\n",
    "__purpose__ : same as [NACHOS12.L75-MAA10](2017-07-26-AA-NACHOS12.L75-MAA10.html) with different time-steps\n",
    "\n",
    "__outcome__ : time_step at 360 for one year (2010), then 480 for the rest of the simulations (2011-2012)"
   ]
  },
  {
   "cell_type": "markdown",
   "metadata": {
    "collapsed": true
   },
   "source": [
    "## First year of simulations 2010"
   ]
  },
  {
   "cell_type": "markdown",
   "metadata": {
    "collapsed": false
   },
   "source": [
    "\n",
    "\n",
    "<img src=\"/home/users/albert6a/Data/NACHOS12.L75/NACHOS12.L75-MAA11-PLOTS/glob_eke0-ssh-t0-s0_2010.png\"></img>\n",
    "\n"
   ]
  },
  {
   "cell_type": "code",
   "execution_count": 1,
   "metadata": {
    "collapsed": false
   },
   "outputs": [
    {
     "name": "stdout",
     "output_type": "stream",
     "text": [
      "/home/users/albert6a/Data/NACHOS12.L75/NACHOS12.L75-MAA11-PLOTS/glob_eke0-ssh-t0-s0_2010.png\r\n"
     ]
    }
   ],
   "source": [
    "!ls /home/users/albert6a/Data/NACHOS12.L75/NACHOS12.L75-MAA11-PLOTS/glob_eke0-ssh-t0-s0_2010.png\n"
   ]
  },
  {
   "cell_type": "code",
   "execution_count": null,
   "metadata": {
    "collapsed": true
   },
   "outputs": [],
   "source": [
    "<img width=\"800\" src=\"/home/users/albert6a/Data/NACHOS12.L75/NACHOS12.L75-MAA11-PLOTS/glob_mxl_2010.png\"></img>\n",
    "<img width=\"800\" src=\"/home/users/albert6a/Data/NACHOS12.L75/NACHOS12.L75-MAA11-PLOTS/glob_flxt_2010.png\"></img>\n",
    "<img width=\"800\" src=\"/home/users/albert6a/Data/NACHOS12.L75/NACHOS12.L75-MAA11-PLOTS/glob_ice_2010.png\"></img>\n",
    "<img width=\"800\" src=\"/home/users/albert6a/Data/NACHOS12.L75/NACHOS12.L75-MAA11-PLOTS/atl_t-s-0-200-1000_2010.png\"></img>\n",
    "<img width=\"800\" src=\"/home/users/albert6a/Data/NACHOS12.L75/NACHOS12.L75-MAA11-PLOTS/atl_flxt_2010.png\"></img>\n",
    "<img width=\"800\" src=\"/home/users/albert6a/Data/NACHOS12.L75/NACHOS12.L75-MAA11-PLOTS/atl_psi_2010.png\"></img>\n",
    "<img width=\"800\" src=\"/home/users/albert6a/Data/NACHOS12.L75/NACHOS12.L75-MAA11-PLOTS/natl_ice_2010.png\"></img>"
   ]
  }
 ],
 "metadata": {
  "kernelspec": {
   "display_name": "Python 2",
   "language": "python",
   "name": "python2"
  },
  "language_info": {
   "codemirror_mode": {
    "name": "ipython",
    "version": 2
   },
   "file_extension": ".py",
   "mimetype": "text/x-python",
   "name": "python",
   "nbconvert_exporter": "python",
   "pygments_lexer": "ipython2",
   "version": "2.7.13"
  }
 },
 "nbformat": 4,
 "nbformat_minor": 0
}

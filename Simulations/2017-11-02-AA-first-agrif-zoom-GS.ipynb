{
 "cells": [
  {
   "cell_type": "markdown",
   "metadata": {},
   "source": [
    "# Everything needed to make an AGRIF zoom run\n",
    "\n",
    "## Implementation of GS (Gulf Stream) zoom at 1/24°\n",
    "\n",
    "### Define the area\n",
    "\n",
    " - x,192,759 -d y,586,922\n",
    " \n",
    "### Nesting Tools for initial files\n",
    "\n",
    "### Construct new weights\n",
    "\n",
    "  - for atmospheric forcing\n",
    "  - for GLORYS2V4 initial conditions : new pseudo-coordinates\n",
    "  \n",
    "### Compilation of the code\n",
    "\n",
    "### Running scripts"
   ]
  },
  {
   "cell_type": "code",
   "execution_count": null,
   "metadata": {
    "collapsed": true
   },
   "outputs": [],
   "source": []
  }
 ],
 "metadata": {
  "kernelspec": {
   "display_name": "Python [Root]",
   "language": "python",
   "name": "Python [Root]"
  },
  "language_info": {
   "codemirror_mode": {
    "name": "ipython",
    "version": 2
   },
   "file_extension": ".py",
   "mimetype": "text/x-python",
   "name": "python",
   "nbconvert_exporter": "python",
   "pygments_lexer": "ipython2",
   "version": "2.7.11"
  }
 },
 "nbformat": 4,
 "nbformat_minor": 0
}

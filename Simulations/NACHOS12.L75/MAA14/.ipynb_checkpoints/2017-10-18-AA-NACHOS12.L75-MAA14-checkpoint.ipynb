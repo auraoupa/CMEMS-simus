{
 "cells": [
  {
   "cell_type": "markdown",
   "metadata": {
    "collapsed": true
   },
   "source": [
    "# NACHOS12.L75-MAA14\n",
    "\n",
    "\n",
    "__date of running__ : 25/09/2017\n",
    "\n",
    "__purpose__ : Mercator-type Simulation\n",
    "\n",
    "__namelists__ : \n",
    "\n",
    " - [ocean namelist](namelist.NACHOS12.L75-MAA14)\n",
    " - [ice namelist](namelist_ice)\n",
    "\n",
    "__run stats__ : 90h Wall-Time (~22h/year), ~150 000h CPU (+37 000h/year)\n",
    "\n",
    "bad performances because debug mode still on ...\n",
    "\n",
    "__outputs__ : 4.5To 1d/1h outputs, 225Go 1m/1y means, 150Go restarts\n",
    "\n",
    "__monitoring__ :\n",
    "\n",
    " - yearly means : http://www-meom.hmg.inpg.fr/DRAKKAR/NACHOS12.L75/NACHOS12.L75-MAA14/python/\n",
    " - clim 2011-2013 : http://www-meom.hmg.inpg.fr/DRAKKAR/NACHOS12.L75/NACHOS12.L75-MAA14/CLIM_2011-2013/python/\n"
   ]
  }
 ],
 "metadata": {
  "kernelspec": {
   "display_name": "Python [Root]",
   "language": "python",
   "name": "Python [Root]"
  },
  "language_info": {
   "codemirror_mode": {
    "name": "ipython",
    "version": 2
   },
   "file_extension": ".py",
   "mimetype": "text/x-python",
   "name": "python",
   "nbconvert_exporter": "python",
   "pygments_lexer": "ipython2",
   "version": "2.7.11"
  }
 },
 "nbformat": 4,
 "nbformat_minor": 0
}

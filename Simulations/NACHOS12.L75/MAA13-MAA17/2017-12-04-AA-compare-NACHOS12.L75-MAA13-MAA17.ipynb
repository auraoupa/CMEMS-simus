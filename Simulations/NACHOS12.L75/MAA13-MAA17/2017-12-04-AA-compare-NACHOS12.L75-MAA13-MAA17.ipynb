{
 "cells": [
  {
   "cell_type": "markdown",
   "metadata": {
    "collapsed": true
   },
   "source": [
    "# Comparaison NACHOS12.L75-MAA13 et MAA15\n",
    "\n",
    "__MAA13__ : run de référence [MAA13](2017-10-18-AA-NACHOS12.L75-MAA13.html)\n",
    "\n",
    "__MAA17__ : test vent relatif [MAA17](2017-11-30-AA-NACHOS12.L75-MAA15.html)\n",
    "\n"
   ]
  },
  {
   "cell_type": "markdown",
   "metadata": {
    "collapsed": true
   },
   "source": [
    "## Differences\n",
    "\n",
    "Setting | MAA13 | MAA17\n",
    "---- | ---- | ----\n",
    "__Surface Boundary Condition__ |  |\n",
    "rn_vfac (multiplicative factor for ocean/ice velocity) | 0.  | 1.\n",
    "in the calculation of the wind stress (0.=absolute winds or 1.=relative winds) |  | \n",
    "\n"
   ]
  },
  {
   "cell_type": "markdown",
   "metadata": {},
   "source": [
    "## Results\n",
    "\n",
    " - yearly means : http://www-meom.hmg.inpg.fr/DRAKKAR/NACHOS12.L75/NACHOS12.L75-MAA13-MAA17/python/\n",
    " - clim 2011-2013 : http://www-meom.hmg.inpg.fr/DRAKKAR/NACHOS12.L75/NACHOS12.L75-MAA13-MAA17/CLIM_2011-2013/python/"
   ]
  }
 ],
 "metadata": {
  "kernelspec": {
   "display_name": "Python [Root]",
   "language": "python",
   "name": "Python [Root]"
  },
  "language_info": {
   "codemirror_mode": {
    "name": "ipython",
    "version": 2
   },
   "file_extension": ".py",
   "mimetype": "text/x-python",
   "name": "python",
   "nbconvert_exporter": "python",
   "pygments_lexer": "ipython2",
   "version": "2.7.11"
  }
 },
 "nbformat": 4,
 "nbformat_minor": 0
}

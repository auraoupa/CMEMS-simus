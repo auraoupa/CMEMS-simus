{
 "cells": [
  {
   "cell_type": "markdown",
   "metadata": {},
   "source": [
    "# Indicators of resolved fine scales\n",
    "\n",
    "6 different indicators tested first on NATL60 outputs (reference simulation) then will be applied on hierarchy of simulations\n",
    "\n",
    "## 1. Scales of simulated structures\n",
    "\n",
    "- Scales of eddies (based on the analysis of vorticity spectrum)\n",
    "- Effective resolution (based on analysis of velocities spectrum)\n",
    "\n",
    "## 2. Temporal coherence of simulated structures\n",
    "\n",
    "- estimation of decorrelation times (based on the analysis f eulerian autocorrelation of simulated variables)\n",
    "\n",
    "### 3. Intensity of fine scales activity\n",
    "\n",
    "- fine scales variance ([relative vorticity](2017-02-17-AA-fine-scales-variance-surface-relative-vorticity.html), vertical velocity, sea surface temperature, sea surface salinity)\n",
    "\n",
    "- fine scales probability density function of horizontal gradient of density\n",
    "\n",
    "### 4. Fine scales signature on traceurs\n",
    "\n",
    "- probability density function of Turner angle allowing to measure temperature and salinity compensation degree on lateral gradient\n",
    "\n",
    "### 5. Consistency of the solutions / numerical noise\n",
    "\n",
    "- objective measurement of \"grid point\" noise on vertical velocities and passive traceurs\n",
    "\n",
    "### 6. Turbulent transport and scales interaction\n",
    "\n",
    "- statistics of vertical buoyancy fluxes \n",
    "- index of frontogenesis intensity related to mesoscale deformation field\n",
    "\n",
    "### Idea of a new indicator \n",
    "- detection of the breaking point of the slope of a given spectrum ~= effective resolution"
   ]
  },
  {
   "cell_type": "code",
   "execution_count": null,
   "metadata": {
    "collapsed": true
   },
   "outputs": [],
   "source": []
  }
 ],
 "metadata": {
  "kernelspec": {
   "display_name": "Python [Root]",
   "language": "python",
   "name": "Python [Root]"
  },
  "language_info": {
   "codemirror_mode": {
    "name": "ipython",
    "version": 2
   },
   "file_extension": ".py",
   "mimetype": "text/x-python",
   "name": "python",
   "nbconvert_exporter": "python",
   "pygments_lexer": "ipython2",
   "version": "2.7.11"
  }
 },
 "nbformat": 4,
 "nbformat_minor": 0
}

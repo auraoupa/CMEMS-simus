{
 "cells": [
  {
   "cell_type": "markdown",
   "metadata": {},
   "source": [
    "# CMEMS : Global oceanic modelling - Task 1"
   ]
  },
  {
   "cell_type": "markdown",
   "metadata": {},
   "source": [
    "## Calendar for 2017\n",
    "\n",
    "### T1.1 Set up of NATL12 \n",
    "\n",
    "  - [NATL12 configuration](2017-10-16-AA-Presentation-NATL12-configuration.html)\n",
    "\n",
    "### T1.2 Set up of NATL12/24 (AGRIF 1/24°)\n",
    "\n",
    "### T1.3 Fine scales indicators 3, 4 and 5 \n",
    "\n",
    "  - [List of all indicators](2017-02-20-Indicators-of-resolved-fine-scales.html)"
   ]
  }
 ],
 "metadata": {
  "kernelspec": {
   "display_name": "Python [Root]",
   "language": "python",
   "name": "Python [Root]"
  },
  "language_info": {
   "codemirror_mode": {
    "name": "ipython",
    "version": 2
   },
   "file_extension": ".py",
   "mimetype": "text/x-python",
   "name": "python",
   "nbconvert_exporter": "python",
   "pygments_lexer": "ipython2",
   "version": "2.7.11"
  }
 },
 "nbformat": 4,
 "nbformat_minor": 0
}
